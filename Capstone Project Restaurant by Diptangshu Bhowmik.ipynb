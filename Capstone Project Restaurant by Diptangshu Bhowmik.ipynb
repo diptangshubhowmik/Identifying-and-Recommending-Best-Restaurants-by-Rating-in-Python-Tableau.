{
 "cells": [
  {
   "cell_type": "markdown",
   "id": "ecd00441",
   "metadata": {},
   "source": [
    "# Capstone project : Identifying and Recommending Best Restaurants by Diptangshu Bhowmik"
   ]
  },
  {
   "cell_type": "markdown",
   "id": "79e30cb3",
   "metadata": {},
   "source": [
    "## 1. Import all the required Libraries and load the data file using pandas."
   ]
  },
  {
   "cell_type": "code",
   "execution_count": 1,
   "id": "ec70caae",
   "metadata": {},
   "outputs": [],
   "source": [
    "import pandas as pd\n",
    "import numpy as np\n",
    "import seaborn as sns\n",
    "import matplotlib.pyplot as plt\n",
    "%matplotlib inline"
   ]
  },
  {
   "cell_type": "code",
   "execution_count": 2,
   "id": "02b5bac5",
   "metadata": {},
   "outputs": [],
   "source": [
    "import warnings\n",
    "warnings.filterwarnings('ignore')"
   ]
  },
  {
   "cell_type": "markdown",
   "id": "d6e70bb0",
   "metadata": {},
   "source": [
    "First we import the data excel file which has 19 attributes and name it data."
   ]
  },
  {
   "cell_type": "code",
   "execution_count": 3,
   "id": "12a6b954",
   "metadata": {},
   "outputs": [],
   "source": [
    "data = pd.read_excel('data.xlsx')"
   ]
  },
  {
   "cell_type": "code",
   "execution_count": 4,
   "id": "8fbd2e63",
   "metadata": {},
   "outputs": [
    {
     "data": {
      "text/html": [
       "<div>\n",
       "<style scoped>\n",
       "    .dataframe tbody tr th:only-of-type {\n",
       "        vertical-align: middle;\n",
       "    }\n",
       "\n",
       "    .dataframe tbody tr th {\n",
       "        vertical-align: top;\n",
       "    }\n",
       "\n",
       "    .dataframe thead th {\n",
       "        text-align: right;\n",
       "    }\n",
       "</style>\n",
       "<table border=\"1\" class=\"dataframe\">\n",
       "  <thead>\n",
       "    <tr style=\"text-align: right;\">\n",
       "      <th></th>\n",
       "      <th>Restaurant ID</th>\n",
       "      <th>Restaurant Name</th>\n",
       "      <th>Country Code</th>\n",
       "      <th>City</th>\n",
       "      <th>Address</th>\n",
       "      <th>Locality</th>\n",
       "      <th>Locality Verbose</th>\n",
       "      <th>Longitude</th>\n",
       "      <th>Latitude</th>\n",
       "      <th>Cuisines</th>\n",
       "      <th>Average Cost for two</th>\n",
       "      <th>Currency</th>\n",
       "      <th>Has Table booking</th>\n",
       "      <th>Has Online delivery</th>\n",
       "      <th>Price range</th>\n",
       "      <th>Aggregate rating</th>\n",
       "      <th>Rating color</th>\n",
       "      <th>Rating text</th>\n",
       "      <th>Votes</th>\n",
       "    </tr>\n",
       "  </thead>\n",
       "  <tbody>\n",
       "    <tr>\n",
       "      <th>0</th>\n",
       "      <td>7402935</td>\n",
       "      <td>Skye</td>\n",
       "      <td>94</td>\n",
       "      <td>Jakarta</td>\n",
       "      <td>Menara BCA, Lantai 56, Jl. MH. Thamrin, Thamri...</td>\n",
       "      <td>Grand Indonesia Mall, Thamrin</td>\n",
       "      <td>Grand Indonesia Mall, Thamrin, Jakarta</td>\n",
       "      <td>106.821999</td>\n",
       "      <td>-6.196778</td>\n",
       "      <td>Italian, Continental</td>\n",
       "      <td>800000</td>\n",
       "      <td>Indonesian Rupiah(IDR)</td>\n",
       "      <td>No</td>\n",
       "      <td>No</td>\n",
       "      <td>3</td>\n",
       "      <td>4.1</td>\n",
       "      <td>Green</td>\n",
       "      <td>Very Good</td>\n",
       "      <td>1498</td>\n",
       "    </tr>\n",
       "    <tr>\n",
       "      <th>1</th>\n",
       "      <td>7410290</td>\n",
       "      <td>Satoo - Hotel Shangri-La</td>\n",
       "      <td>94</td>\n",
       "      <td>Jakarta</td>\n",
       "      <td>Hotel Shangri-La, Jl. Jend. Sudirman</td>\n",
       "      <td>Hotel Shangri-La, Sudirman</td>\n",
       "      <td>Hotel Shangri-La, Sudirman, Jakarta</td>\n",
       "      <td>106.818961</td>\n",
       "      <td>-6.203292</td>\n",
       "      <td>Asian, Indonesian, Western</td>\n",
       "      <td>800000</td>\n",
       "      <td>Indonesian Rupiah(IDR)</td>\n",
       "      <td>No</td>\n",
       "      <td>No</td>\n",
       "      <td>3</td>\n",
       "      <td>4.6</td>\n",
       "      <td>Dark Green</td>\n",
       "      <td>Excellent</td>\n",
       "      <td>873</td>\n",
       "    </tr>\n",
       "  </tbody>\n",
       "</table>\n",
       "</div>"
      ],
      "text/plain": [
       "   Restaurant ID           Restaurant Name  Country Code     City  \\\n",
       "0        7402935                      Skye            94  Jakarta   \n",
       "1        7410290  Satoo - Hotel Shangri-La            94  Jakarta   \n",
       "\n",
       "                                             Address  \\\n",
       "0  Menara BCA, Lantai 56, Jl. MH. Thamrin, Thamri...   \n",
       "1               Hotel Shangri-La, Jl. Jend. Sudirman   \n",
       "\n",
       "                        Locality                        Locality Verbose  \\\n",
       "0  Grand Indonesia Mall, Thamrin  Grand Indonesia Mall, Thamrin, Jakarta   \n",
       "1     Hotel Shangri-La, Sudirman     Hotel Shangri-La, Sudirman, Jakarta   \n",
       "\n",
       "    Longitude  Latitude                    Cuisines  Average Cost for two  \\\n",
       "0  106.821999 -6.196778        Italian, Continental                800000   \n",
       "1  106.818961 -6.203292  Asian, Indonesian, Western                800000   \n",
       "\n",
       "                 Currency Has Table booking Has Online delivery  Price range  \\\n",
       "0  Indonesian Rupiah(IDR)                No                  No            3   \n",
       "1  Indonesian Rupiah(IDR)                No                  No            3   \n",
       "\n",
       "   Aggregate rating Rating color Rating text  Votes  \n",
       "0               4.1        Green   Very Good   1498  \n",
       "1               4.6   Dark Green   Excellent    873  "
      ]
     },
     "execution_count": 4,
     "metadata": {},
     "output_type": "execute_result"
    }
   ],
   "source": [
    "data.head(2)"
   ]
  },
  {
   "cell_type": "code",
   "execution_count": 5,
   "id": "3bf279b5",
   "metadata": {},
   "outputs": [
    {
     "name": "stdout",
     "output_type": "stream",
     "text": [
      "<class 'pandas.core.frame.DataFrame'>\n",
      "RangeIndex: 9551 entries, 0 to 9550\n",
      "Data columns (total 19 columns):\n",
      " #   Column                Non-Null Count  Dtype  \n",
      "---  ------                --------------  -----  \n",
      " 0   Restaurant ID         9551 non-null   int64  \n",
      " 1   Restaurant Name       9550 non-null   object \n",
      " 2   Country Code          9551 non-null   int64  \n",
      " 3   City                  9551 non-null   object \n",
      " 4   Address               9551 non-null   object \n",
      " 5   Locality              9551 non-null   object \n",
      " 6   Locality Verbose      9551 non-null   object \n",
      " 7   Longitude             9551 non-null   float64\n",
      " 8   Latitude              9551 non-null   float64\n",
      " 9   Cuisines              9542 non-null   object \n",
      " 10  Average Cost for two  9551 non-null   int64  \n",
      " 11  Currency              9551 non-null   object \n",
      " 12  Has Table booking     9551 non-null   object \n",
      " 13  Has Online delivery   9551 non-null   object \n",
      " 14  Price range           9551 non-null   int64  \n",
      " 15  Aggregate rating      9551 non-null   float64\n",
      " 16  Rating color          9551 non-null   object \n",
      " 17  Rating text           9551 non-null   object \n",
      " 18  Votes                 9551 non-null   int64  \n",
      "dtypes: float64(3), int64(5), object(11)\n",
      "memory usage: 1.4+ MB\n"
     ]
    }
   ],
   "source": [
    "data.info()"
   ]
  },
  {
   "cell_type": "markdown",
   "id": "d9c0c39c",
   "metadata": {},
   "source": [
    "Secondly we import the Country-Code excel sheet which has 2 attributes and name it cc."
   ]
  },
  {
   "cell_type": "code",
   "execution_count": 6,
   "id": "69a223c7",
   "metadata": {},
   "outputs": [],
   "source": [
    "cc = pd.read_excel('Country-Code.xlsx')"
   ]
  },
  {
   "cell_type": "code",
   "execution_count": 7,
   "id": "2d70a2b7",
   "metadata": {},
   "outputs": [
    {
     "data": {
      "text/html": [
       "<div>\n",
       "<style scoped>\n",
       "    .dataframe tbody tr th:only-of-type {\n",
       "        vertical-align: middle;\n",
       "    }\n",
       "\n",
       "    .dataframe tbody tr th {\n",
       "        vertical-align: top;\n",
       "    }\n",
       "\n",
       "    .dataframe thead th {\n",
       "        text-align: right;\n",
       "    }\n",
       "</style>\n",
       "<table border=\"1\" class=\"dataframe\">\n",
       "  <thead>\n",
       "    <tr style=\"text-align: right;\">\n",
       "      <th></th>\n",
       "      <th>Country Code</th>\n",
       "      <th>Country</th>\n",
       "    </tr>\n",
       "  </thead>\n",
       "  <tbody>\n",
       "    <tr>\n",
       "      <th>0</th>\n",
       "      <td>1</td>\n",
       "      <td>India</td>\n",
       "    </tr>\n",
       "    <tr>\n",
       "      <th>1</th>\n",
       "      <td>14</td>\n",
       "      <td>Australia</td>\n",
       "    </tr>\n",
       "  </tbody>\n",
       "</table>\n",
       "</div>"
      ],
      "text/plain": [
       "   Country Code    Country\n",
       "0             1      India\n",
       "1            14  Australia"
      ]
     },
     "execution_count": 7,
     "metadata": {},
     "output_type": "execute_result"
    }
   ],
   "source": [
    "cc.head(2)"
   ]
  },
  {
   "cell_type": "markdown",
   "id": "74245d32",
   "metadata": {},
   "source": [
    "Comparing both the dataframes, i.e. data & cc we see we have one column in common i.e. Country Code we can perform a join clause so to determine the Country matching with the Country Code."
   ]
  },
  {
   "cell_type": "markdown",
   "id": "37eb6ffa",
   "metadata": {},
   "source": [
    "To do so we will perform a left join so our dataframe: data is given priority and we are going to name this dataframe: df"
   ]
  },
  {
   "cell_type": "code",
   "execution_count": 8,
   "id": "a4d1096d",
   "metadata": {},
   "outputs": [],
   "source": [
    "df = pd.merge(data,cc,on='Country Code',how='left')"
   ]
  },
  {
   "cell_type": "code",
   "execution_count": 9,
   "id": "3096039a",
   "metadata": {},
   "outputs": [
    {
     "data": {
      "text/html": [
       "<div>\n",
       "<style scoped>\n",
       "    .dataframe tbody tr th:only-of-type {\n",
       "        vertical-align: middle;\n",
       "    }\n",
       "\n",
       "    .dataframe tbody tr th {\n",
       "        vertical-align: top;\n",
       "    }\n",
       "\n",
       "    .dataframe thead th {\n",
       "        text-align: right;\n",
       "    }\n",
       "</style>\n",
       "<table border=\"1\" class=\"dataframe\">\n",
       "  <thead>\n",
       "    <tr style=\"text-align: right;\">\n",
       "      <th></th>\n",
       "      <th>Restaurant ID</th>\n",
       "      <th>Restaurant Name</th>\n",
       "      <th>Country Code</th>\n",
       "      <th>City</th>\n",
       "      <th>Address</th>\n",
       "      <th>Locality</th>\n",
       "      <th>Locality Verbose</th>\n",
       "      <th>Longitude</th>\n",
       "      <th>Latitude</th>\n",
       "      <th>Cuisines</th>\n",
       "      <th>Average Cost for two</th>\n",
       "      <th>Currency</th>\n",
       "      <th>Has Table booking</th>\n",
       "      <th>Has Online delivery</th>\n",
       "      <th>Price range</th>\n",
       "      <th>Aggregate rating</th>\n",
       "      <th>Rating color</th>\n",
       "      <th>Rating text</th>\n",
       "      <th>Votes</th>\n",
       "      <th>Country</th>\n",
       "    </tr>\n",
       "  </thead>\n",
       "  <tbody>\n",
       "    <tr>\n",
       "      <th>0</th>\n",
       "      <td>7402935</td>\n",
       "      <td>Skye</td>\n",
       "      <td>94</td>\n",
       "      <td>Jakarta</td>\n",
       "      <td>Menara BCA, Lantai 56, Jl. MH. Thamrin, Thamri...</td>\n",
       "      <td>Grand Indonesia Mall, Thamrin</td>\n",
       "      <td>Grand Indonesia Mall, Thamrin, Jakarta</td>\n",
       "      <td>106.821999</td>\n",
       "      <td>-6.196778</td>\n",
       "      <td>Italian, Continental</td>\n",
       "      <td>800000</td>\n",
       "      <td>Indonesian Rupiah(IDR)</td>\n",
       "      <td>No</td>\n",
       "      <td>No</td>\n",
       "      <td>3</td>\n",
       "      <td>4.1</td>\n",
       "      <td>Green</td>\n",
       "      <td>Very Good</td>\n",
       "      <td>1498</td>\n",
       "      <td>Indonesia</td>\n",
       "    </tr>\n",
       "    <tr>\n",
       "      <th>1</th>\n",
       "      <td>7410290</td>\n",
       "      <td>Satoo - Hotel Shangri-La</td>\n",
       "      <td>94</td>\n",
       "      <td>Jakarta</td>\n",
       "      <td>Hotel Shangri-La, Jl. Jend. Sudirman</td>\n",
       "      <td>Hotel Shangri-La, Sudirman</td>\n",
       "      <td>Hotel Shangri-La, Sudirman, Jakarta</td>\n",
       "      <td>106.818961</td>\n",
       "      <td>-6.203292</td>\n",
       "      <td>Asian, Indonesian, Western</td>\n",
       "      <td>800000</td>\n",
       "      <td>Indonesian Rupiah(IDR)</td>\n",
       "      <td>No</td>\n",
       "      <td>No</td>\n",
       "      <td>3</td>\n",
       "      <td>4.6</td>\n",
       "      <td>Dark Green</td>\n",
       "      <td>Excellent</td>\n",
       "      <td>873</td>\n",
       "      <td>Indonesia</td>\n",
       "    </tr>\n",
       "  </tbody>\n",
       "</table>\n",
       "</div>"
      ],
      "text/plain": [
       "   Restaurant ID           Restaurant Name  Country Code     City  \\\n",
       "0        7402935                      Skye            94  Jakarta   \n",
       "1        7410290  Satoo - Hotel Shangri-La            94  Jakarta   \n",
       "\n",
       "                                             Address  \\\n",
       "0  Menara BCA, Lantai 56, Jl. MH. Thamrin, Thamri...   \n",
       "1               Hotel Shangri-La, Jl. Jend. Sudirman   \n",
       "\n",
       "                        Locality                        Locality Verbose  \\\n",
       "0  Grand Indonesia Mall, Thamrin  Grand Indonesia Mall, Thamrin, Jakarta   \n",
       "1     Hotel Shangri-La, Sudirman     Hotel Shangri-La, Sudirman, Jakarta   \n",
       "\n",
       "    Longitude  Latitude                    Cuisines  Average Cost for two  \\\n",
       "0  106.821999 -6.196778        Italian, Continental                800000   \n",
       "1  106.818961 -6.203292  Asian, Indonesian, Western                800000   \n",
       "\n",
       "                 Currency Has Table booking Has Online delivery  Price range  \\\n",
       "0  Indonesian Rupiah(IDR)                No                  No            3   \n",
       "1  Indonesian Rupiah(IDR)                No                  No            3   \n",
       "\n",
       "   Aggregate rating Rating color Rating text  Votes    Country  \n",
       "0               4.1        Green   Very Good   1498  Indonesia  \n",
       "1               4.6   Dark Green   Excellent    873  Indonesia  "
      ]
     },
     "execution_count": 9,
     "metadata": {},
     "output_type": "execute_result"
    }
   ],
   "source": [
    "df.head(2)"
   ]
  },
  {
   "cell_type": "markdown",
   "id": "ca3f05c1",
   "metadata": {},
   "source": [
    "## Data Preliminary analysis:\n",
    "### a.\t Perform preliminary data inspection and report the findings as the structure of the data, missing values, duplicates cleaning variable names etc."
   ]
  },
  {
   "cell_type": "code",
   "execution_count": 10,
   "id": "95059a90",
   "metadata": {},
   "outputs": [
    {
     "name": "stdout",
     "output_type": "stream",
     "text": [
      "<class 'pandas.core.frame.DataFrame'>\n",
      "Int64Index: 9551 entries, 0 to 9550\n",
      "Data columns (total 20 columns):\n",
      " #   Column                Non-Null Count  Dtype  \n",
      "---  ------                --------------  -----  \n",
      " 0   Restaurant ID         9551 non-null   int64  \n",
      " 1   Restaurant Name       9550 non-null   object \n",
      " 2   Country Code          9551 non-null   int64  \n",
      " 3   City                  9551 non-null   object \n",
      " 4   Address               9551 non-null   object \n",
      " 5   Locality              9551 non-null   object \n",
      " 6   Locality Verbose      9551 non-null   object \n",
      " 7   Longitude             9551 non-null   float64\n",
      " 8   Latitude              9551 non-null   float64\n",
      " 9   Cuisines              9542 non-null   object \n",
      " 10  Average Cost for two  9551 non-null   int64  \n",
      " 11  Currency              9551 non-null   object \n",
      " 12  Has Table booking     9551 non-null   object \n",
      " 13  Has Online delivery   9551 non-null   object \n",
      " 14  Price range           9551 non-null   int64  \n",
      " 15  Aggregate rating      9551 non-null   float64\n",
      " 16  Rating color          9551 non-null   object \n",
      " 17  Rating text           9551 non-null   object \n",
      " 18  Votes                 9551 non-null   int64  \n",
      " 19  Country               9551 non-null   object \n",
      "dtypes: float64(3), int64(5), object(12)\n",
      "memory usage: 1.5+ MB\n"
     ]
    }
   ],
   "source": [
    "df.info()"
   ]
  },
  {
   "cell_type": "markdown",
   "id": "313b0e69",
   "metadata": {},
   "source": [
    "We have 20 columns in our dataframe and 9551 entries. \n",
    "All the columns have correct labels and corresponding datatypes are correct too. But we do see some null/missing values in few columns. Let's further explore these values. "
   ]
  },
  {
   "cell_type": "code",
   "execution_count": 11,
   "id": "7766daf1",
   "metadata": {},
   "outputs": [
    {
     "data": {
      "text/plain": [
       "Restaurant ID           0\n",
       "Restaurant Name         1\n",
       "Country Code            0\n",
       "City                    0\n",
       "Address                 0\n",
       "Locality                0\n",
       "Locality Verbose        0\n",
       "Longitude               0\n",
       "Latitude                0\n",
       "Cuisines                9\n",
       "Average Cost for two    0\n",
       "Currency                0\n",
       "Has Table booking       0\n",
       "Has Online delivery     0\n",
       "Price range             0\n",
       "Aggregate rating        0\n",
       "Rating color            0\n",
       "Rating text             0\n",
       "Votes                   0\n",
       "Country                 0\n",
       "dtype: int64"
      ]
     },
     "execution_count": 11,
     "metadata": {},
     "output_type": "execute_result"
    }
   ],
   "source": [
    "df.isna().sum()"
   ]
  },
  {
   "cell_type": "markdown",
   "id": "676595f6",
   "metadata": {},
   "source": [
    "We have total 10 null values, where we 1 null value is in column 'Restaurant Name' and 9 null values are in column 'Cuisines'. Let's explore and remove them."
   ]
  },
  {
   "cell_type": "code",
   "execution_count": 12,
   "id": "f3be72d8",
   "metadata": {},
   "outputs": [
    {
     "data": {
      "text/html": [
       "<div>\n",
       "<style scoped>\n",
       "    .dataframe tbody tr th:only-of-type {\n",
       "        vertical-align: middle;\n",
       "    }\n",
       "\n",
       "    .dataframe tbody tr th {\n",
       "        vertical-align: top;\n",
       "    }\n",
       "\n",
       "    .dataframe thead th {\n",
       "        text-align: right;\n",
       "    }\n",
       "</style>\n",
       "<table border=\"1\" class=\"dataframe\">\n",
       "  <thead>\n",
       "    <tr style=\"text-align: right;\">\n",
       "      <th></th>\n",
       "      <th>Restaurant ID</th>\n",
       "      <th>Restaurant Name</th>\n",
       "      <th>Country Code</th>\n",
       "      <th>City</th>\n",
       "      <th>Address</th>\n",
       "      <th>Locality</th>\n",
       "      <th>Locality Verbose</th>\n",
       "      <th>Longitude</th>\n",
       "      <th>Latitude</th>\n",
       "      <th>Cuisines</th>\n",
       "      <th>Average Cost for two</th>\n",
       "      <th>Currency</th>\n",
       "      <th>Has Table booking</th>\n",
       "      <th>Has Online delivery</th>\n",
       "      <th>Price range</th>\n",
       "      <th>Aggregate rating</th>\n",
       "      <th>Rating color</th>\n",
       "      <th>Rating text</th>\n",
       "      <th>Votes</th>\n",
       "      <th>Country</th>\n",
       "    </tr>\n",
       "  </thead>\n",
       "  <tbody>\n",
       "    <tr>\n",
       "      <th>1646</th>\n",
       "      <td>113702</td>\n",
       "      <td>NaN</td>\n",
       "      <td>1</td>\n",
       "      <td>Ahmedabad</td>\n",
       "      <td>Opposite Sindhu Bhawan, Bodakdev, Ahmedabad</td>\n",
       "      <td>Bodakdev</td>\n",
       "      <td>Bodakdev, Ahmedabad</td>\n",
       "      <td>72.501764</td>\n",
       "      <td>23.040163</td>\n",
       "      <td>North Indian, Continental, Mexican, Italian</td>\n",
       "      <td>800</td>\n",
       "      <td>Indian Rupees(Rs.)</td>\n",
       "      <td>No</td>\n",
       "      <td>No</td>\n",
       "      <td>3</td>\n",
       "      <td>4.1</td>\n",
       "      <td>Green</td>\n",
       "      <td>Very Good</td>\n",
       "      <td>769</td>\n",
       "      <td>India</td>\n",
       "    </tr>\n",
       "  </tbody>\n",
       "</table>\n",
       "</div>"
      ],
      "text/plain": [
       "      Restaurant ID Restaurant Name  Country Code       City  \\\n",
       "1646         113702             NaN             1  Ahmedabad   \n",
       "\n",
       "                                          Address  Locality  \\\n",
       "1646  Opposite Sindhu Bhawan, Bodakdev, Ahmedabad  Bodakdev   \n",
       "\n",
       "         Locality Verbose  Longitude   Latitude  \\\n",
       "1646  Bodakdev, Ahmedabad  72.501764  23.040163   \n",
       "\n",
       "                                         Cuisines  Average Cost for two  \\\n",
       "1646  North Indian, Continental, Mexican, Italian                   800   \n",
       "\n",
       "                Currency Has Table booking Has Online delivery  Price range  \\\n",
       "1646  Indian Rupees(Rs.)                No                  No            3   \n",
       "\n",
       "      Aggregate rating Rating color Rating text  Votes Country  \n",
       "1646               4.1        Green   Very Good    769   India  "
      ]
     },
     "execution_count": 12,
     "metadata": {},
     "output_type": "execute_result"
    }
   ],
   "source": [
    "df[df['Restaurant Name'].isna()]"
   ]
  },
  {
   "cell_type": "code",
   "execution_count": 13,
   "id": "74d8ee52",
   "metadata": {},
   "outputs": [
    {
     "data": {
      "text/html": [
       "<div>\n",
       "<style scoped>\n",
       "    .dataframe tbody tr th:only-of-type {\n",
       "        vertical-align: middle;\n",
       "    }\n",
       "\n",
       "    .dataframe tbody tr th {\n",
       "        vertical-align: top;\n",
       "    }\n",
       "\n",
       "    .dataframe thead th {\n",
       "        text-align: right;\n",
       "    }\n",
       "</style>\n",
       "<table border=\"1\" class=\"dataframe\">\n",
       "  <thead>\n",
       "    <tr style=\"text-align: right;\">\n",
       "      <th></th>\n",
       "      <th>Restaurant ID</th>\n",
       "      <th>Restaurant Name</th>\n",
       "      <th>Country Code</th>\n",
       "      <th>City</th>\n",
       "      <th>Address</th>\n",
       "      <th>Locality</th>\n",
       "      <th>Locality Verbose</th>\n",
       "      <th>Longitude</th>\n",
       "      <th>Latitude</th>\n",
       "      <th>Cuisines</th>\n",
       "      <th>Average Cost for two</th>\n",
       "      <th>Currency</th>\n",
       "      <th>Has Table booking</th>\n",
       "      <th>Has Online delivery</th>\n",
       "      <th>Price range</th>\n",
       "      <th>Aggregate rating</th>\n",
       "      <th>Rating color</th>\n",
       "      <th>Rating text</th>\n",
       "      <th>Votes</th>\n",
       "      <th>Country</th>\n",
       "    </tr>\n",
       "  </thead>\n",
       "  <tbody>\n",
       "    <tr>\n",
       "      <th>9083</th>\n",
       "      <td>17374552</td>\n",
       "      <td>Corkscrew Cafe</td>\n",
       "      <td>216</td>\n",
       "      <td>Gainesville</td>\n",
       "      <td>51 W Main St, Dahlonega, GA 30533</td>\n",
       "      <td>Dahlonega</td>\n",
       "      <td>Dahlonega, Gainesville</td>\n",
       "      <td>-83.985800</td>\n",
       "      <td>34.531800</td>\n",
       "      <td>NaN</td>\n",
       "      <td>40</td>\n",
       "      <td>Dollar($)</td>\n",
       "      <td>No</td>\n",
       "      <td>No</td>\n",
       "      <td>3</td>\n",
       "      <td>3.9</td>\n",
       "      <td>Yellow</td>\n",
       "      <td>Good</td>\n",
       "      <td>209</td>\n",
       "      <td>United States</td>\n",
       "    </tr>\n",
       "    <tr>\n",
       "      <th>9086</th>\n",
       "      <td>17501439</td>\n",
       "      <td>Dovetail</td>\n",
       "      <td>216</td>\n",
       "      <td>Macon</td>\n",
       "      <td>543 Cherry St, Macon, GA 31201</td>\n",
       "      <td>Macon</td>\n",
       "      <td>Macon, Macon</td>\n",
       "      <td>-83.627979</td>\n",
       "      <td>32.836410</td>\n",
       "      <td>NaN</td>\n",
       "      <td>40</td>\n",
       "      <td>Dollar($)</td>\n",
       "      <td>No</td>\n",
       "      <td>No</td>\n",
       "      <td>3</td>\n",
       "      <td>3.8</td>\n",
       "      <td>Yellow</td>\n",
       "      <td>Good</td>\n",
       "      <td>102</td>\n",
       "      <td>United States</td>\n",
       "    </tr>\n",
       "    <tr>\n",
       "      <th>9094</th>\n",
       "      <td>17059060</td>\n",
       "      <td>Hillstone</td>\n",
       "      <td>216</td>\n",
       "      <td>Orlando</td>\n",
       "      <td>215 South Orlando Avenue, Winter Park, FL 32789</td>\n",
       "      <td>Winter Park</td>\n",
       "      <td>Winter Park, Orlando</td>\n",
       "      <td>-81.365260</td>\n",
       "      <td>28.596682</td>\n",
       "      <td>NaN</td>\n",
       "      <td>40</td>\n",
       "      <td>Dollar($)</td>\n",
       "      <td>No</td>\n",
       "      <td>No</td>\n",
       "      <td>3</td>\n",
       "      <td>4.4</td>\n",
       "      <td>Green</td>\n",
       "      <td>Very Good</td>\n",
       "      <td>1158</td>\n",
       "      <td>United States</td>\n",
       "    </tr>\n",
       "    <tr>\n",
       "      <th>9406</th>\n",
       "      <td>17284158</td>\n",
       "      <td>Jimmie's Hot Dogs</td>\n",
       "      <td>216</td>\n",
       "      <td>Albany</td>\n",
       "      <td>204 S Jackson St, Albany, GA 31701</td>\n",
       "      <td>Albany</td>\n",
       "      <td>Albany, Albany</td>\n",
       "      <td>-84.153400</td>\n",
       "      <td>31.575100</td>\n",
       "      <td>NaN</td>\n",
       "      <td>10</td>\n",
       "      <td>Dollar($)</td>\n",
       "      <td>No</td>\n",
       "      <td>No</td>\n",
       "      <td>1</td>\n",
       "      <td>3.9</td>\n",
       "      <td>Yellow</td>\n",
       "      <td>Good</td>\n",
       "      <td>160</td>\n",
       "      <td>United States</td>\n",
       "    </tr>\n",
       "    <tr>\n",
       "      <th>9494</th>\n",
       "      <td>17142698</td>\n",
       "      <td>Leonard's Bakery</td>\n",
       "      <td>216</td>\n",
       "      <td>Rest of Hawaii</td>\n",
       "      <td>933 Kapahulu Ave, Honolulu, HI 96816</td>\n",
       "      <td>Kaimuki</td>\n",
       "      <td>Kaimuki, Rest of Hawaii</td>\n",
       "      <td>-157.813432</td>\n",
       "      <td>21.284586</td>\n",
       "      <td>NaN</td>\n",
       "      <td>10</td>\n",
       "      <td>Dollar($)</td>\n",
       "      <td>No</td>\n",
       "      <td>No</td>\n",
       "      <td>1</td>\n",
       "      <td>4.7</td>\n",
       "      <td>Dark Green</td>\n",
       "      <td>Excellent</td>\n",
       "      <td>707</td>\n",
       "      <td>United States</td>\n",
       "    </tr>\n",
       "    <tr>\n",
       "      <th>9504</th>\n",
       "      <td>17616465</td>\n",
       "      <td>Tybee Island Social Club</td>\n",
       "      <td>216</td>\n",
       "      <td>Savannah</td>\n",
       "      <td>1311 Butler Ave, Tybee Island, GA 31328</td>\n",
       "      <td>Tybee Island</td>\n",
       "      <td>Tybee Island, Savannah</td>\n",
       "      <td>-80.848297</td>\n",
       "      <td>31.995810</td>\n",
       "      <td>NaN</td>\n",
       "      <td>10</td>\n",
       "      <td>Dollar($)</td>\n",
       "      <td>No</td>\n",
       "      <td>No</td>\n",
       "      <td>1</td>\n",
       "      <td>3.9</td>\n",
       "      <td>Yellow</td>\n",
       "      <td>Good</td>\n",
       "      <td>309</td>\n",
       "      <td>United States</td>\n",
       "    </tr>\n",
       "    <tr>\n",
       "      <th>9533</th>\n",
       "      <td>17284105</td>\n",
       "      <td>Cookie Shoppe</td>\n",
       "      <td>216</td>\n",
       "      <td>Albany</td>\n",
       "      <td>115 N Jackson St, Albany, GA 31701</td>\n",
       "      <td>Albany</td>\n",
       "      <td>Albany, Albany</td>\n",
       "      <td>-84.154000</td>\n",
       "      <td>31.577200</td>\n",
       "      <td>NaN</td>\n",
       "      <td>0</td>\n",
       "      <td>Dollar($)</td>\n",
       "      <td>No</td>\n",
       "      <td>No</td>\n",
       "      <td>1</td>\n",
       "      <td>3.4</td>\n",
       "      <td>Orange</td>\n",
       "      <td>Average</td>\n",
       "      <td>34</td>\n",
       "      <td>United States</td>\n",
       "    </tr>\n",
       "    <tr>\n",
       "      <th>9535</th>\n",
       "      <td>17284211</td>\n",
       "      <td>Pearly's Famous Country Cookng</td>\n",
       "      <td>216</td>\n",
       "      <td>Albany</td>\n",
       "      <td>814 N Slappey Blvd, Albany, GA 31701</td>\n",
       "      <td>Albany</td>\n",
       "      <td>Albany, Albany</td>\n",
       "      <td>-84.175900</td>\n",
       "      <td>31.588200</td>\n",
       "      <td>NaN</td>\n",
       "      <td>0</td>\n",
       "      <td>Dollar($)</td>\n",
       "      <td>No</td>\n",
       "      <td>No</td>\n",
       "      <td>1</td>\n",
       "      <td>3.4</td>\n",
       "      <td>Orange</td>\n",
       "      <td>Average</td>\n",
       "      <td>36</td>\n",
       "      <td>United States</td>\n",
       "    </tr>\n",
       "    <tr>\n",
       "      <th>9539</th>\n",
       "      <td>17606621</td>\n",
       "      <td>HI Lite Bar &amp; Lounge</td>\n",
       "      <td>216</td>\n",
       "      <td>Miller</td>\n",
       "      <td>109 N Broadway Ave, Miller, SD 57362</td>\n",
       "      <td>Miller</td>\n",
       "      <td>Miller, Miller</td>\n",
       "      <td>-98.989100</td>\n",
       "      <td>44.515800</td>\n",
       "      <td>NaN</td>\n",
       "      <td>0</td>\n",
       "      <td>Dollar($)</td>\n",
       "      <td>No</td>\n",
       "      <td>No</td>\n",
       "      <td>1</td>\n",
       "      <td>3.4</td>\n",
       "      <td>Orange</td>\n",
       "      <td>Average</td>\n",
       "      <td>11</td>\n",
       "      <td>United States</td>\n",
       "    </tr>\n",
       "  </tbody>\n",
       "</table>\n",
       "</div>"
      ],
      "text/plain": [
       "      Restaurant ID                 Restaurant Name  Country Code  \\\n",
       "9083       17374552                  Corkscrew Cafe           216   \n",
       "9086       17501439                        Dovetail           216   \n",
       "9094       17059060                       Hillstone           216   \n",
       "9406       17284158               Jimmie's Hot Dogs           216   \n",
       "9494       17142698                Leonard's Bakery           216   \n",
       "9504       17616465        Tybee Island Social Club           216   \n",
       "9533       17284105                   Cookie Shoppe           216   \n",
       "9535       17284211  Pearly's Famous Country Cookng           216   \n",
       "9539       17606621            HI Lite Bar & Lounge           216   \n",
       "\n",
       "                City                                          Address  \\\n",
       "9083     Gainesville                51 W Main St, Dahlonega, GA 30533   \n",
       "9086           Macon                   543 Cherry St, Macon, GA 31201   \n",
       "9094         Orlando  215 South Orlando Avenue, Winter Park, FL 32789   \n",
       "9406          Albany               204 S Jackson St, Albany, GA 31701   \n",
       "9494  Rest of Hawaii             933 Kapahulu Ave, Honolulu, HI 96816   \n",
       "9504        Savannah          1311 Butler Ave, Tybee Island, GA 31328   \n",
       "9533          Albany               115 N Jackson St, Albany, GA 31701   \n",
       "9535          Albany             814 N Slappey Blvd, Albany, GA 31701   \n",
       "9539          Miller             109 N Broadway Ave, Miller, SD 57362   \n",
       "\n",
       "          Locality         Locality Verbose   Longitude   Latitude Cuisines  \\\n",
       "9083     Dahlonega   Dahlonega, Gainesville  -83.985800  34.531800      NaN   \n",
       "9086         Macon             Macon, Macon  -83.627979  32.836410      NaN   \n",
       "9094   Winter Park     Winter Park, Orlando  -81.365260  28.596682      NaN   \n",
       "9406        Albany           Albany, Albany  -84.153400  31.575100      NaN   \n",
       "9494       Kaimuki  Kaimuki, Rest of Hawaii -157.813432  21.284586      NaN   \n",
       "9504  Tybee Island   Tybee Island, Savannah  -80.848297  31.995810      NaN   \n",
       "9533        Albany           Albany, Albany  -84.154000  31.577200      NaN   \n",
       "9535        Albany           Albany, Albany  -84.175900  31.588200      NaN   \n",
       "9539        Miller           Miller, Miller  -98.989100  44.515800      NaN   \n",
       "\n",
       "      Average Cost for two   Currency Has Table booking Has Online delivery  \\\n",
       "9083                    40  Dollar($)                No                  No   \n",
       "9086                    40  Dollar($)                No                  No   \n",
       "9094                    40  Dollar($)                No                  No   \n",
       "9406                    10  Dollar($)                No                  No   \n",
       "9494                    10  Dollar($)                No                  No   \n",
       "9504                    10  Dollar($)                No                  No   \n",
       "9533                     0  Dollar($)                No                  No   \n",
       "9535                     0  Dollar($)                No                  No   \n",
       "9539                     0  Dollar($)                No                  No   \n",
       "\n",
       "      Price range  Aggregate rating Rating color Rating text  Votes  \\\n",
       "9083            3               3.9       Yellow        Good    209   \n",
       "9086            3               3.8       Yellow        Good    102   \n",
       "9094            3               4.4        Green   Very Good   1158   \n",
       "9406            1               3.9       Yellow        Good    160   \n",
       "9494            1               4.7   Dark Green   Excellent    707   \n",
       "9504            1               3.9       Yellow        Good    309   \n",
       "9533            1               3.4       Orange     Average     34   \n",
       "9535            1               3.4       Orange     Average     36   \n",
       "9539            1               3.4       Orange     Average     11   \n",
       "\n",
       "            Country  \n",
       "9083  United States  \n",
       "9086  United States  \n",
       "9094  United States  \n",
       "9406  United States  \n",
       "9494  United States  \n",
       "9504  United States  \n",
       "9533  United States  \n",
       "9535  United States  \n",
       "9539  United States  "
      ]
     },
     "execution_count": 13,
     "metadata": {},
     "output_type": "execute_result"
    }
   ],
   "source": [
    "df[df['Cuisines'].isna()]"
   ]
  },
  {
   "cell_type": "code",
   "execution_count": 14,
   "id": "273f2353",
   "metadata": {},
   "outputs": [],
   "source": [
    "df.dropna(subset=['Restaurant Name'],axis=0,inplace=True)"
   ]
  },
  {
   "cell_type": "code",
   "execution_count": 15,
   "id": "74dd36fd",
   "metadata": {},
   "outputs": [
    {
     "data": {
      "text/plain": [
       "Restaurant ID           0\n",
       "Restaurant Name         0\n",
       "Country Code            0\n",
       "City                    0\n",
       "Address                 0\n",
       "Locality                0\n",
       "Locality Verbose        0\n",
       "Longitude               0\n",
       "Latitude                0\n",
       "Cuisines                9\n",
       "Average Cost for two    0\n",
       "Currency                0\n",
       "Has Table booking       0\n",
       "Has Online delivery     0\n",
       "Price range             0\n",
       "Aggregate rating        0\n",
       "Rating color            0\n",
       "Rating text             0\n",
       "Votes                   0\n",
       "Country                 0\n",
       "dtype: int64"
      ]
     },
     "execution_count": 15,
     "metadata": {},
     "output_type": "execute_result"
    }
   ],
   "source": [
    "df.isna().sum()"
   ]
  },
  {
   "cell_type": "code",
   "execution_count": 16,
   "id": "98641604",
   "metadata": {},
   "outputs": [],
   "source": [
    "df.dropna(subset=['Cuisines'],axis=0,inplace=True)"
   ]
  },
  {
   "cell_type": "code",
   "execution_count": 17,
   "id": "9a4efbd5",
   "metadata": {},
   "outputs": [
    {
     "data": {
      "text/plain": [
       "Restaurant ID           0\n",
       "Restaurant Name         0\n",
       "Country Code            0\n",
       "City                    0\n",
       "Address                 0\n",
       "Locality                0\n",
       "Locality Verbose        0\n",
       "Longitude               0\n",
       "Latitude                0\n",
       "Cuisines                0\n",
       "Average Cost for two    0\n",
       "Currency                0\n",
       "Has Table booking       0\n",
       "Has Online delivery     0\n",
       "Price range             0\n",
       "Aggregate rating        0\n",
       "Rating color            0\n",
       "Rating text             0\n",
       "Votes                   0\n",
       "Country                 0\n",
       "dtype: int64"
      ]
     },
     "execution_count": 17,
     "metadata": {},
     "output_type": "execute_result"
    }
   ],
   "source": [
    "df.isna().sum()"
   ]
  },
  {
   "cell_type": "code",
   "execution_count": 18,
   "id": "a324812c",
   "metadata": {},
   "outputs": [
    {
     "name": "stdout",
     "output_type": "stream",
     "text": [
      "<class 'pandas.core.frame.DataFrame'>\n",
      "Int64Index: 9541 entries, 0 to 9550\n",
      "Data columns (total 20 columns):\n",
      " #   Column                Non-Null Count  Dtype  \n",
      "---  ------                --------------  -----  \n",
      " 0   Restaurant ID         9541 non-null   int64  \n",
      " 1   Restaurant Name       9541 non-null   object \n",
      " 2   Country Code          9541 non-null   int64  \n",
      " 3   City                  9541 non-null   object \n",
      " 4   Address               9541 non-null   object \n",
      " 5   Locality              9541 non-null   object \n",
      " 6   Locality Verbose      9541 non-null   object \n",
      " 7   Longitude             9541 non-null   float64\n",
      " 8   Latitude              9541 non-null   float64\n",
      " 9   Cuisines              9541 non-null   object \n",
      " 10  Average Cost for two  9541 non-null   int64  \n",
      " 11  Currency              9541 non-null   object \n",
      " 12  Has Table booking     9541 non-null   object \n",
      " 13  Has Online delivery   9541 non-null   object \n",
      " 14  Price range           9541 non-null   int64  \n",
      " 15  Aggregate rating      9541 non-null   float64\n",
      " 16  Rating color          9541 non-null   object \n",
      " 17  Rating text           9541 non-null   object \n",
      " 18  Votes                 9541 non-null   int64  \n",
      " 19  Country               9541 non-null   object \n",
      "dtypes: float64(3), int64(5), object(12)\n",
      "memory usage: 1.5+ MB\n"
     ]
    }
   ],
   "source": [
    "df.info()"
   ]
  },
  {
   "cell_type": "markdown",
   "id": "01d52221",
   "metadata": {},
   "source": [
    "We have dropped all the rows containing null values so we can see our rows reduced to 9541 in all columns.  "
   ]
  },
  {
   "cell_type": "markdown",
   "id": "f5ac3b5b",
   "metadata": {},
   "source": [
    "### b.\tBased on the findings from the previous questions identify duplicates and remove them."
   ]
  },
  {
   "cell_type": "code",
   "execution_count": 19,
   "id": "a2bf1453",
   "metadata": {},
   "outputs": [
    {
     "data": {
      "text/plain": [
       "0"
      ]
     },
     "execution_count": 19,
     "metadata": {},
     "output_type": "execute_result"
    }
   ],
   "source": [
    "df.duplicated().sum()"
   ]
  },
  {
   "cell_type": "markdown",
   "id": "7898fc31",
   "metadata": {},
   "source": [
    "As we can see we don't have any duplicates in our dataframe. Now our data is cleansed so we proceed with our Exploratory Data Analysis."
   ]
  },
  {
   "cell_type": "markdown",
   "id": "492bf233",
   "metadata": {},
   "source": [
    "## 2.\tPrepare a preliminary report of the given data by answering following questions. Expressing the results using graphs and plot will make it more appealing.\n",
    "### a. Explore the geographical distribution of the restaurants and identify the cities with the maximum and minimum number of restaurants."
   ]
  },
  {
   "cell_type": "code",
   "execution_count": 20,
   "id": "70f2b6f9",
   "metadata": {},
   "outputs": [],
   "source": [
    "geo_dist = df.groupby(['Country','City']).agg(count = ('Restaurant ID','count'))"
   ]
  },
  {
   "cell_type": "code",
   "execution_count": 21,
   "id": "40519214",
   "metadata": {},
   "outputs": [
    {
     "data": {
      "text/html": [
       "<div>\n",
       "<style scoped>\n",
       "    .dataframe tbody tr th:only-of-type {\n",
       "        vertical-align: middle;\n",
       "    }\n",
       "\n",
       "    .dataframe tbody tr th {\n",
       "        vertical-align: top;\n",
       "    }\n",
       "\n",
       "    .dataframe thead th {\n",
       "        text-align: right;\n",
       "    }\n",
       "</style>\n",
       "<table border=\"1\" class=\"dataframe\">\n",
       "  <thead>\n",
       "    <tr style=\"text-align: right;\">\n",
       "      <th></th>\n",
       "      <th></th>\n",
       "      <th>count</th>\n",
       "    </tr>\n",
       "    <tr>\n",
       "      <th>Country</th>\n",
       "      <th>City</th>\n",
       "      <th></th>\n",
       "    </tr>\n",
       "  </thead>\n",
       "  <tbody>\n",
       "    <tr>\n",
       "      <th rowspan=\"7\" valign=\"top\">India</th>\n",
       "      <th>New Delhi</th>\n",
       "      <td>5473</td>\n",
       "    </tr>\n",
       "    <tr>\n",
       "      <th>Gurgaon</th>\n",
       "      <td>1118</td>\n",
       "    </tr>\n",
       "    <tr>\n",
       "      <th>Noida</th>\n",
       "      <td>1080</td>\n",
       "    </tr>\n",
       "    <tr>\n",
       "      <th>Faridabad</th>\n",
       "      <td>251</td>\n",
       "    </tr>\n",
       "    <tr>\n",
       "      <th>Ghaziabad</th>\n",
       "      <td>25</td>\n",
       "    </tr>\n",
       "    <tr>\n",
       "      <th>...</th>\n",
       "      <td>...</td>\n",
       "    </tr>\n",
       "    <tr>\n",
       "      <th>Panchkula</th>\n",
       "      <td>1</td>\n",
       "    </tr>\n",
       "    <tr>\n",
       "      <th>Australia</th>\n",
       "      <th>Balingup</th>\n",
       "      <td>1</td>\n",
       "    </tr>\n",
       "    <tr>\n",
       "      <th>Indonesia</th>\n",
       "      <th>Bandung</th>\n",
       "      <td>1</td>\n",
       "    </tr>\n",
       "    <tr>\n",
       "      <th>Phillipines</th>\n",
       "      <th>Quezon City</th>\n",
       "      <td>1</td>\n",
       "    </tr>\n",
       "    <tr>\n",
       "      <th>United States</th>\n",
       "      <th>Winchester Bay</th>\n",
       "      <td>1</td>\n",
       "    </tr>\n",
       "  </tbody>\n",
       "</table>\n",
       "<p>140 rows × 1 columns</p>\n",
       "</div>"
      ],
      "text/plain": [
       "                              count\n",
       "Country       City                 \n",
       "India         New Delhi        5473\n",
       "              Gurgaon          1118\n",
       "              Noida            1080\n",
       "              Faridabad         251\n",
       "              Ghaziabad          25\n",
       "...                             ...\n",
       "              Panchkula           1\n",
       "Australia     Balingup            1\n",
       "Indonesia     Bandung             1\n",
       "Phillipines   Quezon City         1\n",
       "United States Winchester Bay      1\n",
       "\n",
       "[140 rows x 1 columns]"
      ]
     },
     "execution_count": 21,
     "metadata": {},
     "output_type": "execute_result"
    }
   ],
   "source": [
    "geo_dist.sort_values(by='count',ascending=False)"
   ]
  },
  {
   "cell_type": "markdown",
   "id": "2d7ffda1",
   "metadata": {},
   "source": [
    "We can see New Delhi City in India has the maximum number of restaurants with a count of 5473 and we have many cities with the minimum number of restaurants with a count of 1."
   ]
  },
  {
   "cell_type": "markdown",
   "id": "79ca266b",
   "metadata": {},
   "source": [
    "### b. Restaurant franchising is a thriving venture. So, it is very important to explore the franchise with most national presence."
   ]
  },
  {
   "cell_type": "code",
   "execution_count": 22,
   "id": "641082be",
   "metadata": {},
   "outputs": [
    {
     "data": {
      "text/html": [
       "<div>\n",
       "<style scoped>\n",
       "    .dataframe tbody tr th:only-of-type {\n",
       "        vertical-align: middle;\n",
       "    }\n",
       "\n",
       "    .dataframe tbody tr th {\n",
       "        vertical-align: top;\n",
       "    }\n",
       "\n",
       "    .dataframe thead th {\n",
       "        text-align: right;\n",
       "    }\n",
       "</style>\n",
       "<table border=\"1\" class=\"dataframe\">\n",
       "  <thead>\n",
       "    <tr style=\"text-align: right;\">\n",
       "      <th></th>\n",
       "      <th></th>\n",
       "      <th>Count</th>\n",
       "    </tr>\n",
       "    <tr>\n",
       "      <th>Country</th>\n",
       "      <th>Restaurant Name</th>\n",
       "      <th></th>\n",
       "    </tr>\n",
       "  </thead>\n",
       "  <tbody>\n",
       "    <tr>\n",
       "      <th rowspan=\"10\" valign=\"top\">India</th>\n",
       "      <th>Cafe Coffee Day</th>\n",
       "      <td>83</td>\n",
       "    </tr>\n",
       "    <tr>\n",
       "      <th>Domino's Pizza</th>\n",
       "      <td>79</td>\n",
       "    </tr>\n",
       "    <tr>\n",
       "      <th>Subway</th>\n",
       "      <td>63</td>\n",
       "    </tr>\n",
       "    <tr>\n",
       "      <th>Green Chick Chop</th>\n",
       "      <td>51</td>\n",
       "    </tr>\n",
       "    <tr>\n",
       "      <th>McDonald's</th>\n",
       "      <td>48</td>\n",
       "    </tr>\n",
       "    <tr>\n",
       "      <th>...</th>\n",
       "      <td>...</td>\n",
       "    </tr>\n",
       "    <tr>\n",
       "      <th>Haunted</th>\n",
       "      <td>1</td>\n",
       "    </tr>\n",
       "    <tr>\n",
       "      <th>Hasty Tasty Fast Food</th>\n",
       "      <td>1</td>\n",
       "    </tr>\n",
       "    <tr>\n",
       "      <th>Hashtag Foods</th>\n",
       "      <td>1</td>\n",
       "    </tr>\n",
       "    <tr>\n",
       "      <th>Hash Stix</th>\n",
       "      <td>1</td>\n",
       "    </tr>\n",
       "    <tr>\n",
       "      <th>United States</th>\n",
       "      <th>Zunzi's</th>\n",
       "      <td>1</td>\n",
       "    </tr>\n",
       "  </tbody>\n",
       "</table>\n",
       "<p>7463 rows × 1 columns</p>\n",
       "</div>"
      ],
      "text/plain": [
       "                                     Count\n",
       "Country       Restaurant Name             \n",
       "India         Cafe Coffee Day           83\n",
       "              Domino's Pizza            79\n",
       "              Subway                    63\n",
       "              Green Chick Chop          51\n",
       "              McDonald's                48\n",
       "...                                    ...\n",
       "              Haunted                    1\n",
       "              Hasty Tasty Fast Food      1\n",
       "              Hashtag Foods              1\n",
       "              Hash Stix                  1\n",
       "United States Zunzi's                    1\n",
       "\n",
       "[7463 rows x 1 columns]"
      ]
     },
     "execution_count": 22,
     "metadata": {},
     "output_type": "execute_result"
    }
   ],
   "source": [
    "fran = df.groupby(['Country','Restaurant Name']).agg(Count=('Country','count'))\n",
    "fran.sort_values(by='Count',ascending=False)"
   ]
  },
  {
   "cell_type": "markdown",
   "id": "8538e9c5",
   "metadata": {},
   "source": [
    "We have data of India in majority in our dataset so we going to consider the case of India.\n",
    "The Franchise with the most national Presence are Coffee Cafe Day with 83 outlets in India followed by Domino's Pizza and Subway in India."
   ]
  },
  {
   "cell_type": "markdown",
   "id": "958caf12",
   "metadata": {},
   "source": [
    "### c. Find out the ratio between restaurants that allow table booking vs. those that do not allow table booking."
   ]
  },
  {
   "cell_type": "code",
   "execution_count": 23,
   "id": "8226281b",
   "metadata": {},
   "outputs": [
    {
     "name": "stdout",
     "output_type": "stream",
     "text": [
      "The ratio between restaurants that allow table booking vs. those that do not allow table booking:  0.14\n"
     ]
    }
   ],
   "source": [
    "table_booking = df[df['Has Table booking']=='Yes']['Restaurant ID'].count()\n",
    "notable_booking = df[df['Has Table booking']=='No']['Restaurant ID'].count()\n",
    "print('The ratio between restaurants that allow table booking vs. those that do not allow table booking: ',\n",
    "     round((table_booking/notable_booking),2))"
   ]
  },
  {
   "cell_type": "markdown",
   "id": "6484a257",
   "metadata": {},
   "source": [
    "We have further visualized this problem below with a pie chart for easy understanding."
   ]
  },
  {
   "cell_type": "code",
   "execution_count": 24,
   "id": "b46d4b73",
   "metadata": {},
   "outputs": [
    {
     "data": {
      "image/png": "[encoded data removed]",
      "text/plain": [
       "<Figure size 432x288 with 1 Axes>"
      ]
     },
     "metadata": {},
     "output_type": "display_data"
    }
   ],
   "source": [
    "size = [table_booking,notable_booking]\n",
    "colours = ['Orange','b']\n",
    "labels = ['Has table booking','No Table booking']\n",
    "plt.pie(size, colors = colours,labels = labels,shadow=False,autopct=\"%1.1f%%\")\n",
    "plt.title('Table booking Provision')\n",
    "plt.show()"
   ]
  },
  {
   "cell_type": "markdown",
   "id": "2487084e",
   "metadata": {},
   "source": [
    "### d. Find out the percentage of restaurants providing online delivery."
   ]
  },
  {
   "cell_type": "code",
   "execution_count": 25,
   "id": "44aa2d88",
   "metadata": {},
   "outputs": [
    {
     "name": "stdout",
     "output_type": "stream",
     "text": [
      "The percentage of restaurants providing online delivery is 25.7%\n"
     ]
    }
   ],
   "source": [
    "online_del = df[df['Has Online delivery']=='Yes']['Restaurant ID'].count()\n",
    "noonline_del = df[df['Has Online delivery']=='No']['Restaurant ID'].count()\n",
    "print('The percentage of restaurants providing online delivery is {}%'\n",
    "      .format(round(online_del/len(df),3)*100))"
   ]
  },
  {
   "cell_type": "markdown",
   "id": "75f65309",
   "metadata": {},
   "source": [
    "We have further visualized this problem below with a pie chart for easy understanding."
   ]
  },
  {
   "cell_type": "code",
   "execution_count": 26,
   "id": "30f0bdbd",
   "metadata": {},
   "outputs": [
    {
     "data": {
      "image/png": "[encoded data removed]",
      "text/plain": [
       "<Figure size 432x288 with 1 Axes>"
      ]
     },
     "metadata": {},
     "output_type": "display_data"
    }
   ],
   "source": [
    "size = [online_del,noonline_del]\n",
    "colors = ['orange','b']\n",
    "labels = ['Has online delivery','No online delivery']\n",
    "plt.pie(size,colors=colors,labels=labels,shadow=False,autopct='%1.1f%%')\n",
    "plt.title('Online Delivery Provision')\n",
    "plt.show()"
   ]
  },
  {
   "cell_type": "markdown",
   "id": "422a8d8b",
   "metadata": {},
   "source": [
    "### e. Calculate the difference in number of votes for the restaurants that deliver and the restaurants that do not deliver."
   ]
  },
  {
   "cell_type": "code",
   "execution_count": 27,
   "id": "71b15bcc",
   "metadata": {},
   "outputs": [
    {
     "name": "stdout",
     "output_type": "stream",
     "text": [
      "The difference in number of votes for the restaurants that deliver and the restaurants that do not deliver:  459322\n"
     ]
    }
   ],
   "source": [
    "online_del1 = df[df['Has Online delivery']=='Yes']['Votes'].sum()\n",
    "noonline_del2 = df[df['Has Online delivery']=='No']['Votes'].sum()\n",
    "print('The difference in number of votes for the restaurants that deliver and the restaurants that do not deliver: ',\n",
    "     abs(online_del1-noonline_del2))"
   ]
  },
  {
   "cell_type": "markdown",
   "id": "94d0c8fb",
   "metadata": {},
   "source": [
    "### f. How ratings are distributed among the various factors?"
   ]
  },
  {
   "cell_type": "code",
   "execution_count": 28,
   "id": "0e895e80",
   "metadata": {},
   "outputs": [
    {
     "data": {
      "text/plain": [
       "<AxesSubplot:xlabel='Aggregate rating', ylabel='Density'>"
      ]
     },
     "execution_count": 28,
     "metadata": {},
     "output_type": "execute_result"
    },
    {
     "data": {
      "image/png": "[encoded data removed]",
      "text/plain": [
       "<Figure size 432x288 with 1 Axes>"
      ]
     },
     "metadata": {
      "needs_background": "light"
     },
     "output_type": "display_data"
    }
   ],
   "source": [
    "sns.distplot(df['Aggregate rating'],kde=True)"
   ]
  },
  {
   "cell_type": "markdown",
   "id": "065751a3",
   "metadata": {},
   "source": [
    "We first did the distribution of Aggregate Rating to see how ratings are distributed. We can see we have huge number of restaurants that are not rated,the reason is because most of the data here is India centric and in India many people tend to visit thier favourite restaurant rather than ordering Online as seen in the Online Delivery Plot."
   ]
  },
  {
   "cell_type": "markdown",
   "id": "72849bd4",
   "metadata": {},
   "source": [
    "So,we are going to remove '0' ratings as this will act as outlier and will not be able to visualize the distribution properly.\n",
    "So, we are going to create a dataframe df1 that excludes '0' rating values."
   ]
  },
  {
   "cell_type": "code",
   "execution_count": 29,
   "id": "d2a1fdb4",
   "metadata": {},
   "outputs": [],
   "source": [
    "df1 = df.copy()"
   ]
  },
  {
   "cell_type": "code",
   "execution_count": 30,
   "id": "ce8fde2a",
   "metadata": {},
   "outputs": [
    {
     "data": {
      "text/html": [
       "<div>\n",
       "<style scoped>\n",
       "    .dataframe tbody tr th:only-of-type {\n",
       "        vertical-align: middle;\n",
       "    }\n",
       "\n",
       "    .dataframe tbody tr th {\n",
       "        vertical-align: top;\n",
       "    }\n",
       "\n",
       "    .dataframe thead th {\n",
       "        text-align: right;\n",
       "    }\n",
       "</style>\n",
       "<table border=\"1\" class=\"dataframe\">\n",
       "  <thead>\n",
       "    <tr style=\"text-align: right;\">\n",
       "      <th></th>\n",
       "      <th>Restaurant ID</th>\n",
       "      <th>Restaurant Name</th>\n",
       "      <th>Country Code</th>\n",
       "      <th>City</th>\n",
       "      <th>Address</th>\n",
       "      <th>Locality</th>\n",
       "      <th>Locality Verbose</th>\n",
       "      <th>Longitude</th>\n",
       "      <th>Latitude</th>\n",
       "      <th>Cuisines</th>\n",
       "      <th>Average Cost for two</th>\n",
       "      <th>Currency</th>\n",
       "      <th>Has Table booking</th>\n",
       "      <th>Has Online delivery</th>\n",
       "      <th>Price range</th>\n",
       "      <th>Aggregate rating</th>\n",
       "      <th>Rating color</th>\n",
       "      <th>Rating text</th>\n",
       "      <th>Votes</th>\n",
       "      <th>Country</th>\n",
       "    </tr>\n",
       "  </thead>\n",
       "  <tbody>\n",
       "    <tr>\n",
       "      <th>0</th>\n",
       "      <td>7402935</td>\n",
       "      <td>Skye</td>\n",
       "      <td>94</td>\n",
       "      <td>Jakarta</td>\n",
       "      <td>Menara BCA, Lantai 56, Jl. MH. Thamrin, Thamri...</td>\n",
       "      <td>Grand Indonesia Mall, Thamrin</td>\n",
       "      <td>Grand Indonesia Mall, Thamrin, Jakarta</td>\n",
       "      <td>106.821999</td>\n",
       "      <td>-6.196778</td>\n",
       "      <td>Italian, Continental</td>\n",
       "      <td>800000</td>\n",
       "      <td>Indonesian Rupiah(IDR)</td>\n",
       "      <td>No</td>\n",
       "      <td>No</td>\n",
       "      <td>3</td>\n",
       "      <td>4.1</td>\n",
       "      <td>Green</td>\n",
       "      <td>Very Good</td>\n",
       "      <td>1498</td>\n",
       "      <td>Indonesia</td>\n",
       "    </tr>\n",
       "    <tr>\n",
       "      <th>1</th>\n",
       "      <td>7410290</td>\n",
       "      <td>Satoo - Hotel Shangri-La</td>\n",
       "      <td>94</td>\n",
       "      <td>Jakarta</td>\n",
       "      <td>Hotel Shangri-La, Jl. Jend. Sudirman</td>\n",
       "      <td>Hotel Shangri-La, Sudirman</td>\n",
       "      <td>Hotel Shangri-La, Sudirman, Jakarta</td>\n",
       "      <td>106.818961</td>\n",
       "      <td>-6.203292</td>\n",
       "      <td>Asian, Indonesian, Western</td>\n",
       "      <td>800000</td>\n",
       "      <td>Indonesian Rupiah(IDR)</td>\n",
       "      <td>No</td>\n",
       "      <td>No</td>\n",
       "      <td>3</td>\n",
       "      <td>4.6</td>\n",
       "      <td>Dark Green</td>\n",
       "      <td>Excellent</td>\n",
       "      <td>873</td>\n",
       "      <td>Indonesia</td>\n",
       "    </tr>\n",
       "  </tbody>\n",
       "</table>\n",
       "</div>"
      ],
      "text/plain": [
       "   Restaurant ID           Restaurant Name  Country Code     City  \\\n",
       "0        7402935                      Skye            94  Jakarta   \n",
       "1        7410290  Satoo - Hotel Shangri-La            94  Jakarta   \n",
       "\n",
       "                                             Address  \\\n",
       "0  Menara BCA, Lantai 56, Jl. MH. Thamrin, Thamri...   \n",
       "1               Hotel Shangri-La, Jl. Jend. Sudirman   \n",
       "\n",
       "                        Locality                        Locality Verbose  \\\n",
       "0  Grand Indonesia Mall, Thamrin  Grand Indonesia Mall, Thamrin, Jakarta   \n",
       "1     Hotel Shangri-La, Sudirman     Hotel Shangri-La, Sudirman, Jakarta   \n",
       "\n",
       "    Longitude  Latitude                    Cuisines  Average Cost for two  \\\n",
       "0  106.821999 -6.196778        Italian, Continental                800000   \n",
       "1  106.818961 -6.203292  Asian, Indonesian, Western                800000   \n",
       "\n",
       "                 Currency Has Table booking Has Online delivery  Price range  \\\n",
       "0  Indonesian Rupiah(IDR)                No                  No            3   \n",
       "1  Indonesian Rupiah(IDR)                No                  No            3   \n",
       "\n",
       "   Aggregate rating Rating color Rating text  Votes    Country  \n",
       "0               4.1        Green   Very Good   1498  Indonesia  \n",
       "1               4.6   Dark Green   Excellent    873  Indonesia  "
      ]
     },
     "execution_count": 30,
     "metadata": {},
     "output_type": "execute_result"
    }
   ],
   "source": [
    "df1.head(2)"
   ]
  },
  {
   "cell_type": "code",
   "execution_count": 31,
   "id": "06c64c87",
   "metadata": {},
   "outputs": [],
   "source": [
    "df1.drop(df1.loc[df1['Aggregate rating']==0].index, inplace=True)"
   ]
  },
  {
   "cell_type": "code",
   "execution_count": 32,
   "id": "de0014eb",
   "metadata": {},
   "outputs": [
    {
     "data": {
      "text/plain": [
       "<AxesSubplot:xlabel='Aggregate rating', ylabel='Density'>"
      ]
     },
     "execution_count": 32,
     "metadata": {},
     "output_type": "execute_result"
    },
    {
     "data": {
      "image/png": "[encoded data removed]",
      "text/plain": [
       "<Figure size 432x288 with 1 Axes>"
      ]
     },
     "metadata": {
      "needs_background": "light"
     },
     "output_type": "display_data"
    }
   ],
   "source": [
    "sns.distplot(df1['Aggregate rating'],kde=True)"
   ]
  },
  {
   "cell_type": "markdown",
   "id": "70b8215c",
   "metadata": {},
   "source": [
    "Excluding the zero rating data, we can see that our distribution of data is normal in nature."
   ]
  },
  {
   "cell_type": "markdown",
   "id": "9c28950d",
   "metadata": {},
   "source": [
    "Now we are going to see how ratings are distributed among various factors."
   ]
  },
  {
   "cell_type": "code",
   "execution_count": 33,
   "id": "3533fc8d",
   "metadata": {},
   "outputs": [
    {
     "data": {
      "text/plain": [
       "Text(0.5, 1.0, 'Distribution of Restaurant Rating by Price Range')"
      ]
     },
     "execution_count": 33,
     "metadata": {},
     "output_type": "execute_result"
    },
    {
     "data": {
      "image/png": "[encoded data removed]",
      "text/plain": [
       "<Figure size 1080x360 with 3 Axes>"
      ]
     },
     "metadata": {
      "needs_background": "light"
     },
     "output_type": "display_data"
    }
   ],
   "source": [
    "fig, axes = plt.subplots(1, 3, figsize=(15, 5), sharey=True)\n",
    "fig.suptitle('Raings V/S Other Variables')\n",
    "\n",
    "# Distribution of Restaurant Rating by Rating Text\n",
    "sns.histplot(ax=axes[0], x='Aggregate rating', hue='Rating text',data=df1,kde=True)\n",
    "axes[0].set_title('Distribution of Restaurant Rating by Rating Text')\n",
    "\n",
    "#Distribution of Restaurant Rating by Country\n",
    "sns.histplot(ax=axes[1],x='Aggregate rating',hue='Country',element='step',data=df1,kde=True)\n",
    "axes[1].set_title('Distribution of Restaurant Rating by Country')\n",
    "\n",
    "#Distribution of Restaurant Rating by Price Range\n",
    "sns.histplot(ax=axes[2],x='Aggregate rating',hue='Price range',element='step', data=df1,kde=True)\n",
    "axes[2].set_title('Distribution of Restaurant Rating by Price Range')"
   ]
  },
  {
   "cell_type": "markdown",
   "id": "f1a173f0",
   "metadata": {},
   "source": [
    "#### Plot 1 : Distribution of Restaurant Rating by Rating Text \n",
    "I wanted to check the 'Rating Text' column labels match with the aggregate ratings, so as seen in the above dist they match according to thier labels.\n",
    "And we can also see most of the data fall under 2.5 to 3.5 bracket i.e. Average."
   ]
  },
  {
   "cell_type": "markdown",
   "id": "79aa7091",
   "metadata": {},
   "source": [
    "#### Plot 2: Distribution of Restaurant Rating by Country\n",
    "Here we see our distribution of Ratings is normal for India, as our data is India centric so it is shadowing other countries.\n",
    "But for other countries we can see the distribution is negatively skewed. i.e pattern of rating is higher in general 4.0 stars on average."
   ]
  },
  {
   "cell_type": "markdown",
   "id": "bc7bd81b",
   "metadata": {},
   "source": [
    "#### Plot 3: Distribution of Restaurant Rating by Price Range\n",
    "Here from the distribution, we can see restaurants having price range of 1 gets 3.0 stars on an average which is majority of data points.\n",
    "It is evident from the plot that people tend to rate cheaper restaurants lower and expensive restaurants higher."
   ]
  },
  {
   "cell_type": "markdown",
   "id": "8d8ba2c3",
   "metadata": {},
   "source": [
    "### g.\tWhat is the maximum and minimum no. of cuisines that a restaurant serves? Also, what is the relationship between No. of cuisines served and Ratings"
   ]
  },
  {
   "cell_type": "code",
   "execution_count": 34,
   "id": "36793771",
   "metadata": {},
   "outputs": [],
   "source": [
    "df['word_count'] = df['Cuisines'].str.split(',').str.len()"
   ]
  },
  {
   "cell_type": "code",
   "execution_count": 35,
   "id": "aa4f951d",
   "metadata": {},
   "outputs": [],
   "source": [
    "Restmaxmin = df.groupby(['word_count']).agg(Count = ('Restaurant ID','count'))"
   ]
  },
  {
   "cell_type": "code",
   "execution_count": 36,
   "id": "ba807236",
   "metadata": {},
   "outputs": [
    {
     "data": {
      "text/html": [
       "<div>\n",
       "<style scoped>\n",
       "    .dataframe tbody tr th:only-of-type {\n",
       "        vertical-align: middle;\n",
       "    }\n",
       "\n",
       "    .dataframe tbody tr th {\n",
       "        vertical-align: top;\n",
       "    }\n",
       "\n",
       "    .dataframe thead th {\n",
       "        text-align: right;\n",
       "    }\n",
       "</style>\n",
       "<table border=\"1\" class=\"dataframe\">\n",
       "  <thead>\n",
       "    <tr style=\"text-align: right;\">\n",
       "      <th></th>\n",
       "      <th>Count</th>\n",
       "    </tr>\n",
       "    <tr>\n",
       "      <th>word_count</th>\n",
       "      <th></th>\n",
       "    </tr>\n",
       "  </thead>\n",
       "  <tbody>\n",
       "    <tr>\n",
       "      <th>1</th>\n",
       "      <td>3394</td>\n",
       "    </tr>\n",
       "    <tr>\n",
       "      <th>2</th>\n",
       "      <td>3444</td>\n",
       "    </tr>\n",
       "    <tr>\n",
       "      <th>3</th>\n",
       "      <td>1840</td>\n",
       "    </tr>\n",
       "    <tr>\n",
       "      <th>4</th>\n",
       "      <td>583</td>\n",
       "    </tr>\n",
       "    <tr>\n",
       "      <th>5</th>\n",
       "      <td>164</td>\n",
       "    </tr>\n",
       "    <tr>\n",
       "      <th>6</th>\n",
       "      <td>74</td>\n",
       "    </tr>\n",
       "    <tr>\n",
       "      <th>7</th>\n",
       "      <td>28</td>\n",
       "    </tr>\n",
       "    <tr>\n",
       "      <th>8</th>\n",
       "      <td>14</td>\n",
       "    </tr>\n",
       "  </tbody>\n",
       "</table>\n",
       "</div>"
      ],
      "text/plain": [
       "            Count\n",
       "word_count       \n",
       "1            3394\n",
       "2            3444\n",
       "3            1840\n",
       "4             583\n",
       "5             164\n",
       "6              74\n",
       "7              28\n",
       "8              14"
      ]
     },
     "execution_count": 36,
     "metadata": {},
     "output_type": "execute_result"
    }
   ],
   "source": [
    "Restmaxmin"
   ]
  },
  {
   "cell_type": "markdown",
   "id": "01b52fbd",
   "metadata": {},
   "source": [
    "Maximum number of cuisines that a restuarant serves is 8 and total number of restuarants that serves 8 cuisines is 14."
   ]
  },
  {
   "cell_type": "markdown",
   "id": "0976bf4e",
   "metadata": {},
   "source": [
    "Minimum number of cuisines that a restuarant serves is 1 and total number of restuarants that serves only one cuisine is 3394."
   ]
  },
  {
   "cell_type": "code",
   "execution_count": 37,
   "id": "cd1973e9",
   "metadata": {},
   "outputs": [
    {
     "data": {
      "text/html": [
       "<div>\n",
       "<style scoped>\n",
       "    .dataframe tbody tr th:only-of-type {\n",
       "        vertical-align: middle;\n",
       "    }\n",
       "\n",
       "    .dataframe tbody tr th {\n",
       "        vertical-align: top;\n",
       "    }\n",
       "\n",
       "    .dataframe thead th {\n",
       "        text-align: right;\n",
       "    }\n",
       "</style>\n",
       "<table border=\"1\" class=\"dataframe\">\n",
       "  <thead>\n",
       "    <tr style=\"text-align: right;\">\n",
       "      <th></th>\n",
       "      <th>Aggregate rating</th>\n",
       "      <th>word_count</th>\n",
       "    </tr>\n",
       "  </thead>\n",
       "  <tbody>\n",
       "    <tr>\n",
       "      <th>Aggregate rating</th>\n",
       "      <td>1.000000</td>\n",
       "      <td>0.250194</td>\n",
       "    </tr>\n",
       "    <tr>\n",
       "      <th>word_count</th>\n",
       "      <td>0.250194</td>\n",
       "      <td>1.000000</td>\n",
       "    </tr>\n",
       "  </tbody>\n",
       "</table>\n",
       "</div>"
      ],
      "text/plain": [
       "                  Aggregate rating  word_count\n",
       "Aggregate rating          1.000000    0.250194\n",
       "word_count                0.250194    1.000000"
      ]
     },
     "execution_count": 37,
     "metadata": {},
     "output_type": "execute_result"
    },
    {
     "data": {
      "image/png": "[encoded data removed]",
      "text/plain": [
       "<Figure size 432x288 with 1 Axes>"
      ]
     },
     "metadata": {
      "needs_background": "light"
     },
     "output_type": "display_data"
    }
   ],
   "source": [
    "sns.scatterplot(x='Aggregate rating',y='word_count',data=df)\n",
    "df[['Aggregate rating','word_count']].corr()"
   ]
  },
  {
   "cell_type": "markdown",
   "id": "0ecbba6a",
   "metadata": {},
   "source": [
    "There is very weak correlation so, number of cuisines is not a good factor to decide the rating of a restaurant"
   ]
  },
  {
   "cell_type": "markdown",
   "id": "de09921d",
   "metadata": {},
   "source": [
    "### h. What are the top 10 cuisines served across cities?"
   ]
  },
  {
   "cell_type": "code",
   "execution_count": 38,
   "id": "1985908b",
   "metadata": {},
   "outputs": [],
   "source": [
    "df2 = df.copy()"
   ]
  },
  {
   "cell_type": "code",
   "execution_count": 39,
   "id": "affed9d1",
   "metadata": {},
   "outputs": [
    {
     "data": {
      "text/html": [
       "<div>\n",
       "<style scoped>\n",
       "    .dataframe tbody tr th:only-of-type {\n",
       "        vertical-align: middle;\n",
       "    }\n",
       "\n",
       "    .dataframe tbody tr th {\n",
       "        vertical-align: top;\n",
       "    }\n",
       "\n",
       "    .dataframe thead th {\n",
       "        text-align: right;\n",
       "    }\n",
       "</style>\n",
       "<table border=\"1\" class=\"dataframe\">\n",
       "  <thead>\n",
       "    <tr style=\"text-align: right;\">\n",
       "      <th></th>\n",
       "      <th>Restaurant ID</th>\n",
       "      <th>Restaurant Name</th>\n",
       "      <th>Country Code</th>\n",
       "      <th>City</th>\n",
       "      <th>Address</th>\n",
       "      <th>Locality</th>\n",
       "      <th>Locality Verbose</th>\n",
       "      <th>Longitude</th>\n",
       "      <th>Latitude</th>\n",
       "      <th>Cuisines</th>\n",
       "      <th>...</th>\n",
       "      <th>Currency</th>\n",
       "      <th>Has Table booking</th>\n",
       "      <th>Has Online delivery</th>\n",
       "      <th>Price range</th>\n",
       "      <th>Aggregate rating</th>\n",
       "      <th>Rating color</th>\n",
       "      <th>Rating text</th>\n",
       "      <th>Votes</th>\n",
       "      <th>Country</th>\n",
       "      <th>word_count</th>\n",
       "    </tr>\n",
       "  </thead>\n",
       "  <tbody>\n",
       "    <tr>\n",
       "      <th>0</th>\n",
       "      <td>7402935</td>\n",
       "      <td>Skye</td>\n",
       "      <td>94</td>\n",
       "      <td>Jakarta</td>\n",
       "      <td>Menara BCA, Lantai 56, Jl. MH. Thamrin, Thamri...</td>\n",
       "      <td>Grand Indonesia Mall, Thamrin</td>\n",
       "      <td>Grand Indonesia Mall, Thamrin, Jakarta</td>\n",
       "      <td>106.821999</td>\n",
       "      <td>-6.196778</td>\n",
       "      <td>Italian, Continental</td>\n",
       "      <td>...</td>\n",
       "      <td>Indonesian Rupiah(IDR)</td>\n",
       "      <td>No</td>\n",
       "      <td>No</td>\n",
       "      <td>3</td>\n",
       "      <td>4.1</td>\n",
       "      <td>Green</td>\n",
       "      <td>Very Good</td>\n",
       "      <td>1498</td>\n",
       "      <td>Indonesia</td>\n",
       "      <td>2</td>\n",
       "    </tr>\n",
       "    <tr>\n",
       "      <th>1</th>\n",
       "      <td>7410290</td>\n",
       "      <td>Satoo - Hotel Shangri-La</td>\n",
       "      <td>94</td>\n",
       "      <td>Jakarta</td>\n",
       "      <td>Hotel Shangri-La, Jl. Jend. Sudirman</td>\n",
       "      <td>Hotel Shangri-La, Sudirman</td>\n",
       "      <td>Hotel Shangri-La, Sudirman, Jakarta</td>\n",
       "      <td>106.818961</td>\n",
       "      <td>-6.203292</td>\n",
       "      <td>Asian, Indonesian, Western</td>\n",
       "      <td>...</td>\n",
       "      <td>Indonesian Rupiah(IDR)</td>\n",
       "      <td>No</td>\n",
       "      <td>No</td>\n",
       "      <td>3</td>\n",
       "      <td>4.6</td>\n",
       "      <td>Dark Green</td>\n",
       "      <td>Excellent</td>\n",
       "      <td>873</td>\n",
       "      <td>Indonesia</td>\n",
       "      <td>3</td>\n",
       "    </tr>\n",
       "  </tbody>\n",
       "</table>\n",
       "<p>2 rows × 21 columns</p>\n",
       "</div>"
      ],
      "text/plain": [
       "   Restaurant ID           Restaurant Name  Country Code     City  \\\n",
       "0        7402935                      Skye            94  Jakarta   \n",
       "1        7410290  Satoo - Hotel Shangri-La            94  Jakarta   \n",
       "\n",
       "                                             Address  \\\n",
       "0  Menara BCA, Lantai 56, Jl. MH. Thamrin, Thamri...   \n",
       "1               Hotel Shangri-La, Jl. Jend. Sudirman   \n",
       "\n",
       "                        Locality                        Locality Verbose  \\\n",
       "0  Grand Indonesia Mall, Thamrin  Grand Indonesia Mall, Thamrin, Jakarta   \n",
       "1     Hotel Shangri-La, Sudirman     Hotel Shangri-La, Sudirman, Jakarta   \n",
       "\n",
       "    Longitude  Latitude                    Cuisines  ...  \\\n",
       "0  106.821999 -6.196778        Italian, Continental  ...   \n",
       "1  106.818961 -6.203292  Asian, Indonesian, Western  ...   \n",
       "\n",
       "                 Currency Has Table booking Has Online delivery Price range  \\\n",
       "0  Indonesian Rupiah(IDR)                No                  No           3   \n",
       "1  Indonesian Rupiah(IDR)                No                  No           3   \n",
       "\n",
       "   Aggregate rating  Rating color Rating text Votes    Country word_count  \n",
       "0               4.1         Green   Very Good  1498  Indonesia          2  \n",
       "1               4.6    Dark Green   Excellent   873  Indonesia          3  \n",
       "\n",
       "[2 rows x 21 columns]"
      ]
     },
     "execution_count": 39,
     "metadata": {},
     "output_type": "execute_result"
    }
   ],
   "source": [
    "df2.head(2)"
   ]
  },
  {
   "cell_type": "markdown",
   "id": "57eaf766",
   "metadata": {},
   "source": [
    "As we can see our 'Cuisines' column has multiple cuisines in one single row,so it is difficult to do further analysis, so we have to split the data in multiple rows and name this dataframe new_cuisine."
   ]
  },
  {
   "cell_type": "code",
   "execution_count": 40,
   "id": "547b2133",
   "metadata": {},
   "outputs": [],
   "source": [
    "new_cuisine = df2.assign(Cuisines=df2.Cuisines.str.split(\", \")).explode('Cuisines')"
   ]
  },
  {
   "cell_type": "code",
   "execution_count": 41,
   "id": "bd5998df",
   "metadata": {},
   "outputs": [
    {
     "data": {
      "text/html": [
       "<div>\n",
       "<style scoped>\n",
       "    .dataframe tbody tr th:only-of-type {\n",
       "        vertical-align: middle;\n",
       "    }\n",
       "\n",
       "    .dataframe tbody tr th {\n",
       "        vertical-align: top;\n",
       "    }\n",
       "\n",
       "    .dataframe thead th {\n",
       "        text-align: right;\n",
       "    }\n",
       "</style>\n",
       "<table border=\"1\" class=\"dataframe\">\n",
       "  <thead>\n",
       "    <tr style=\"text-align: right;\">\n",
       "      <th></th>\n",
       "      <th>Restaurant ID</th>\n",
       "      <th>Restaurant Name</th>\n",
       "      <th>Country Code</th>\n",
       "      <th>City</th>\n",
       "      <th>Address</th>\n",
       "      <th>Locality</th>\n",
       "      <th>Locality Verbose</th>\n",
       "      <th>Longitude</th>\n",
       "      <th>Latitude</th>\n",
       "      <th>Cuisines</th>\n",
       "      <th>Average Cost for two</th>\n",
       "      <th>Currency</th>\n",
       "      <th>Has Table booking</th>\n",
       "      <th>Has Online delivery</th>\n",
       "      <th>Price range</th>\n",
       "      <th>Aggregate rating</th>\n",
       "      <th>Rating color</th>\n",
       "      <th>Rating text</th>\n",
       "      <th>Votes</th>\n",
       "      <th>Country</th>\n",
       "    </tr>\n",
       "  </thead>\n",
       "  <tbody>\n",
       "    <tr>\n",
       "      <th>0</th>\n",
       "      <td>7402935</td>\n",
       "      <td>Skye</td>\n",
       "      <td>94</td>\n",
       "      <td>Jakarta</td>\n",
       "      <td>Menara BCA, Lantai 56, Jl. MH. Thamrin, Thamri...</td>\n",
       "      <td>Grand Indonesia Mall, Thamrin</td>\n",
       "      <td>Grand Indonesia Mall, Thamrin, Jakarta</td>\n",
       "      <td>106.821999</td>\n",
       "      <td>-6.196778</td>\n",
       "      <td>Italian</td>\n",
       "      <td>800000</td>\n",
       "      <td>Indonesian Rupiah(IDR)</td>\n",
       "      <td>No</td>\n",
       "      <td>No</td>\n",
       "      <td>3</td>\n",
       "      <td>4.1</td>\n",
       "      <td>Green</td>\n",
       "      <td>Very Good</td>\n",
       "      <td>1498</td>\n",
       "      <td>Indonesia</td>\n",
       "    </tr>\n",
       "    <tr>\n",
       "      <th>0</th>\n",
       "      <td>7402935</td>\n",
       "      <td>Skye</td>\n",
       "      <td>94</td>\n",
       "      <td>Jakarta</td>\n",
       "      <td>Menara BCA, Lantai 56, Jl. MH. Thamrin, Thamri...</td>\n",
       "      <td>Grand Indonesia Mall, Thamrin</td>\n",
       "      <td>Grand Indonesia Mall, Thamrin, Jakarta</td>\n",
       "      <td>106.821999</td>\n",
       "      <td>-6.196778</td>\n",
       "      <td>Continental</td>\n",
       "      <td>800000</td>\n",
       "      <td>Indonesian Rupiah(IDR)</td>\n",
       "      <td>No</td>\n",
       "      <td>No</td>\n",
       "      <td>3</td>\n",
       "      <td>4.1</td>\n",
       "      <td>Green</td>\n",
       "      <td>Very Good</td>\n",
       "      <td>1498</td>\n",
       "      <td>Indonesia</td>\n",
       "    </tr>\n",
       "  </tbody>\n",
       "</table>\n",
       "</div>"
      ],
      "text/plain": [
       "   Restaurant ID Restaurant Name  Country Code     City  \\\n",
       "0        7402935            Skye            94  Jakarta   \n",
       "0        7402935            Skye            94  Jakarta   \n",
       "\n",
       "                                             Address  \\\n",
       "0  Menara BCA, Lantai 56, Jl. MH. Thamrin, Thamri...   \n",
       "0  Menara BCA, Lantai 56, Jl. MH. Thamrin, Thamri...   \n",
       "\n",
       "                        Locality                        Locality Verbose  \\\n",
       "0  Grand Indonesia Mall, Thamrin  Grand Indonesia Mall, Thamrin, Jakarta   \n",
       "0  Grand Indonesia Mall, Thamrin  Grand Indonesia Mall, Thamrin, Jakarta   \n",
       "\n",
       "    Longitude  Latitude     Cuisines  Average Cost for two  \\\n",
       "0  106.821999 -6.196778      Italian                800000   \n",
       "0  106.821999 -6.196778  Continental                800000   \n",
       "\n",
       "                 Currency Has Table booking Has Online delivery  Price range  \\\n",
       "0  Indonesian Rupiah(IDR)                No                  No            3   \n",
       "0  Indonesian Rupiah(IDR)                No                  No            3   \n",
       "\n",
       "   Aggregate rating Rating color Rating text  Votes    Country  \n",
       "0               4.1        Green   Very Good   1498  Indonesia  \n",
       "0               4.1        Green   Very Good   1498  Indonesia  "
      ]
     },
     "execution_count": 41,
     "metadata": {},
     "output_type": "execute_result"
    }
   ],
   "source": [
    "new_cuisine.drop(['word_count'],axis=1).head(2)"
   ]
  },
  {
   "cell_type": "markdown",
   "id": "9ddd3643",
   "metadata": {},
   "source": [
    "We have split the cuisines into seperate rows and our dataframe is ready for further analysis."
   ]
  },
  {
   "cell_type": "code",
   "execution_count": 42,
   "id": "e63d1a8c",
   "metadata": {},
   "outputs": [
    {
     "data": {
      "text/html": [
       "<div>\n",
       "<style scoped>\n",
       "    .dataframe tbody tr th:only-of-type {\n",
       "        vertical-align: middle;\n",
       "    }\n",
       "\n",
       "    .dataframe tbody tr th {\n",
       "        vertical-align: top;\n",
       "    }\n",
       "\n",
       "    .dataframe thead th {\n",
       "        text-align: right;\n",
       "    }\n",
       "</style>\n",
       "<table border=\"1\" class=\"dataframe\">\n",
       "  <thead>\n",
       "    <tr style=\"text-align: right;\">\n",
       "      <th></th>\n",
       "      <th></th>\n",
       "      <th>Count</th>\n",
       "    </tr>\n",
       "    <tr>\n",
       "      <th>City</th>\n",
       "      <th>Cuisines</th>\n",
       "      <th></th>\n",
       "    </tr>\n",
       "  </thead>\n",
       "  <tbody>\n",
       "    <tr>\n",
       "      <th rowspan=\"4\" valign=\"top\">New Delhi</th>\n",
       "      <th>North Indian</th>\n",
       "      <td>2425</td>\n",
       "    </tr>\n",
       "    <tr>\n",
       "      <th>Chinese</th>\n",
       "      <td>1638</td>\n",
       "    </tr>\n",
       "    <tr>\n",
       "      <th>Fast Food</th>\n",
       "      <td>1304</td>\n",
       "    </tr>\n",
       "    <tr>\n",
       "      <th>Mughlai</th>\n",
       "      <td>628</td>\n",
       "    </tr>\n",
       "    <tr>\n",
       "      <th>Noida</th>\n",
       "      <th>North Indian</th>\n",
       "      <td>532</td>\n",
       "    </tr>\n",
       "    <tr>\n",
       "      <th>Gurgaon</th>\n",
       "      <th>North Indian</th>\n",
       "      <td>508</td>\n",
       "    </tr>\n",
       "    <tr>\n",
       "      <th rowspan=\"3\" valign=\"top\">New Delhi</th>\n",
       "      <th>Bakery</th>\n",
       "      <td>465</td>\n",
       "    </tr>\n",
       "    <tr>\n",
       "      <th>South Indian</th>\n",
       "      <td>411</td>\n",
       "    </tr>\n",
       "    <tr>\n",
       "      <th>Street Food</th>\n",
       "      <td>411</td>\n",
       "    </tr>\n",
       "    <tr>\n",
       "      <th>Noida</th>\n",
       "      <th>Chinese</th>\n",
       "      <td>384</td>\n",
       "    </tr>\n",
       "  </tbody>\n",
       "</table>\n",
       "</div>"
      ],
      "text/plain": [
       "                        Count\n",
       "City      Cuisines           \n",
       "New Delhi North Indian   2425\n",
       "          Chinese        1638\n",
       "          Fast Food      1304\n",
       "          Mughlai         628\n",
       "Noida     North Indian    532\n",
       "Gurgaon   North Indian    508\n",
       "New Delhi Bakery          465\n",
       "          South Indian    411\n",
       "          Street Food     411\n",
       "Noida     Chinese         384"
      ]
     },
     "execution_count": 42,
     "metadata": {},
     "output_type": "execute_result"
    }
   ],
   "source": [
    "topten = new_cuisine.groupby(['City','Cuisines']).agg(Count=('Restaurant ID','count'))\n",
    "topten.sort_values(by='Count',ascending=False).head(10)"
   ]
  },
  {
   "cell_type": "markdown",
   "id": "1c25fcd7",
   "metadata": {},
   "source": [
    "We have many cities, so we have chosen top 3 cities on the basis of restuarant count i.e 'New Delhi', 'Gurgaon' & 'Noida'."
   ]
  },
  {
   "cell_type": "code",
   "execution_count": 43,
   "id": "c1c81a95",
   "metadata": {},
   "outputs": [],
   "source": [
    "city_ = new_cuisine.copy()"
   ]
  },
  {
   "cell_type": "markdown",
   "id": "ad843eb3",
   "metadata": {},
   "source": [
    "Top 10 Cuisines in 'New Delhi' City:"
   ]
  },
  {
   "cell_type": "code",
   "execution_count": 44,
   "id": "f17a3cec",
   "metadata": {},
   "outputs": [
    {
     "data": {
      "text/html": [
       "<div>\n",
       "<style scoped>\n",
       "    .dataframe tbody tr th:only-of-type {\n",
       "        vertical-align: middle;\n",
       "    }\n",
       "\n",
       "    .dataframe tbody tr th {\n",
       "        vertical-align: top;\n",
       "    }\n",
       "\n",
       "    .dataframe thead th {\n",
       "        text-align: right;\n",
       "    }\n",
       "</style>\n",
       "<table border=\"1\" class=\"dataframe\">\n",
       "  <thead>\n",
       "    <tr style=\"text-align: right;\">\n",
       "      <th></th>\n",
       "      <th></th>\n",
       "      <th>Count</th>\n",
       "    </tr>\n",
       "    <tr>\n",
       "      <th>City</th>\n",
       "      <th>Cuisines</th>\n",
       "      <th></th>\n",
       "    </tr>\n",
       "  </thead>\n",
       "  <tbody>\n",
       "    <tr>\n",
       "      <th rowspan=\"10\" valign=\"top\">New Delhi</th>\n",
       "      <th>North Indian</th>\n",
       "      <td>2425</td>\n",
       "    </tr>\n",
       "    <tr>\n",
       "      <th>Chinese</th>\n",
       "      <td>1638</td>\n",
       "    </tr>\n",
       "    <tr>\n",
       "      <th>Fast Food</th>\n",
       "      <td>1304</td>\n",
       "    </tr>\n",
       "    <tr>\n",
       "      <th>Mughlai</th>\n",
       "      <td>628</td>\n",
       "    </tr>\n",
       "    <tr>\n",
       "      <th>Bakery</th>\n",
       "      <td>465</td>\n",
       "    </tr>\n",
       "    <tr>\n",
       "      <th>South Indian</th>\n",
       "      <td>411</td>\n",
       "    </tr>\n",
       "    <tr>\n",
       "      <th>Street Food</th>\n",
       "      <td>411</td>\n",
       "    </tr>\n",
       "    <tr>\n",
       "      <th>Desserts</th>\n",
       "      <td>383</td>\n",
       "    </tr>\n",
       "    <tr>\n",
       "      <th>Italian</th>\n",
       "      <td>376</td>\n",
       "    </tr>\n",
       "    <tr>\n",
       "      <th>Continental</th>\n",
       "      <td>373</td>\n",
       "    </tr>\n",
       "  </tbody>\n",
       "</table>\n",
       "</div>"
      ],
      "text/plain": [
       "                        Count\n",
       "City      Cuisines           \n",
       "New Delhi North Indian   2425\n",
       "          Chinese        1638\n",
       "          Fast Food      1304\n",
       "          Mughlai         628\n",
       "          Bakery          465\n",
       "          South Indian    411\n",
       "          Street Food     411\n",
       "          Desserts        383\n",
       "          Italian         376\n",
       "          Continental     373"
      ]
     },
     "execution_count": 44,
     "metadata": {},
     "output_type": "execute_result"
    }
   ],
   "source": [
    "delhi_count = city_[city_['City'] == 'New Delhi'].groupby(['City','Cuisines']).agg(Count=('Restaurant ID','count'))\n",
    "delhi_count.sort_values(by='Count',ascending=False).head(10)"
   ]
  },
  {
   "cell_type": "markdown",
   "id": "c6cd390a",
   "metadata": {},
   "source": [
    "Top 10 Cuisines in 'Gurgaon' City:"
   ]
  },
  {
   "cell_type": "code",
   "execution_count": 45,
   "id": "bea687e3",
   "metadata": {},
   "outputs": [
    {
     "data": {
      "text/html": [
       "<div>\n",
       "<style scoped>\n",
       "    .dataframe tbody tr th:only-of-type {\n",
       "        vertical-align: middle;\n",
       "    }\n",
       "\n",
       "    .dataframe tbody tr th {\n",
       "        vertical-align: top;\n",
       "    }\n",
       "\n",
       "    .dataframe thead th {\n",
       "        text-align: right;\n",
       "    }\n",
       "</style>\n",
       "<table border=\"1\" class=\"dataframe\">\n",
       "  <thead>\n",
       "    <tr style=\"text-align: right;\">\n",
       "      <th></th>\n",
       "      <th></th>\n",
       "      <th>Count</th>\n",
       "    </tr>\n",
       "    <tr>\n",
       "      <th>City</th>\n",
       "      <th>Cuisines</th>\n",
       "      <th></th>\n",
       "    </tr>\n",
       "  </thead>\n",
       "  <tbody>\n",
       "    <tr>\n",
       "      <th rowspan=\"10\" valign=\"top\">Gurgaon</th>\n",
       "      <th>North Indian</th>\n",
       "      <td>508</td>\n",
       "    </tr>\n",
       "    <tr>\n",
       "      <th>Chinese</th>\n",
       "      <td>324</td>\n",
       "    </tr>\n",
       "    <tr>\n",
       "      <th>Fast Food</th>\n",
       "      <td>220</td>\n",
       "    </tr>\n",
       "    <tr>\n",
       "      <th>Mughlai</th>\n",
       "      <td>117</td>\n",
       "    </tr>\n",
       "    <tr>\n",
       "      <th>Bakery</th>\n",
       "      <td>110</td>\n",
       "    </tr>\n",
       "    <tr>\n",
       "      <th>Continental</th>\n",
       "      <td>103</td>\n",
       "    </tr>\n",
       "    <tr>\n",
       "      <th>Italian</th>\n",
       "      <td>84</td>\n",
       "    </tr>\n",
       "    <tr>\n",
       "      <th>Cafe</th>\n",
       "      <td>78</td>\n",
       "    </tr>\n",
       "    <tr>\n",
       "      <th>Desserts</th>\n",
       "      <td>77</td>\n",
       "    </tr>\n",
       "    <tr>\n",
       "      <th>Street Food</th>\n",
       "      <td>72</td>\n",
       "    </tr>\n",
       "  </tbody>\n",
       "</table>\n",
       "</div>"
      ],
      "text/plain": [
       "                      Count\n",
       "City    Cuisines           \n",
       "Gurgaon North Indian    508\n",
       "        Chinese         324\n",
       "        Fast Food       220\n",
       "        Mughlai         117\n",
       "        Bakery          110\n",
       "        Continental     103\n",
       "        Italian          84\n",
       "        Cafe             78\n",
       "        Desserts         77\n",
       "        Street Food      72"
      ]
     },
     "execution_count": 45,
     "metadata": {},
     "output_type": "execute_result"
    }
   ],
   "source": [
    "gurgaon_count = city_[city_['City'] == 'Gurgaon'].groupby(['City','Cuisines']).agg(Count=('Restaurant ID','count'))\n",
    "gurgaon_count.sort_values(by='Count',ascending=False).head(10)"
   ]
  },
  {
   "cell_type": "markdown",
   "id": "a5fb37fc",
   "metadata": {},
   "source": [
    "Top 10 Cuisines in 'Noida' City:"
   ]
  },
  {
   "cell_type": "code",
   "execution_count": 46,
   "id": "bdf836a4",
   "metadata": {},
   "outputs": [
    {
     "data": {
      "text/html": [
       "<div>\n",
       "<style scoped>\n",
       "    .dataframe tbody tr th:only-of-type {\n",
       "        vertical-align: middle;\n",
       "    }\n",
       "\n",
       "    .dataframe tbody tr th {\n",
       "        vertical-align: top;\n",
       "    }\n",
       "\n",
       "    .dataframe thead th {\n",
       "        text-align: right;\n",
       "    }\n",
       "</style>\n",
       "<table border=\"1\" class=\"dataframe\">\n",
       "  <thead>\n",
       "    <tr style=\"text-align: right;\">\n",
       "      <th></th>\n",
       "      <th></th>\n",
       "      <th>Count</th>\n",
       "    </tr>\n",
       "    <tr>\n",
       "      <th>City</th>\n",
       "      <th>Cuisines</th>\n",
       "      <th></th>\n",
       "    </tr>\n",
       "  </thead>\n",
       "  <tbody>\n",
       "    <tr>\n",
       "      <th rowspan=\"10\" valign=\"top\">Noida</th>\n",
       "      <th>North Indian</th>\n",
       "      <td>532</td>\n",
       "    </tr>\n",
       "    <tr>\n",
       "      <th>Chinese</th>\n",
       "      <td>384</td>\n",
       "    </tr>\n",
       "    <tr>\n",
       "      <th>Fast Food</th>\n",
       "      <td>265</td>\n",
       "    </tr>\n",
       "    <tr>\n",
       "      <th>Mughlai</th>\n",
       "      <td>156</td>\n",
       "    </tr>\n",
       "    <tr>\n",
       "      <th>Bakery</th>\n",
       "      <td>93</td>\n",
       "    </tr>\n",
       "    <tr>\n",
       "      <th>Cafe</th>\n",
       "      <td>69</td>\n",
       "    </tr>\n",
       "    <tr>\n",
       "      <th>South Indian</th>\n",
       "      <td>68</td>\n",
       "    </tr>\n",
       "    <tr>\n",
       "      <th>Desserts</th>\n",
       "      <td>64</td>\n",
       "    </tr>\n",
       "    <tr>\n",
       "      <th>Italian</th>\n",
       "      <td>64</td>\n",
       "    </tr>\n",
       "    <tr>\n",
       "      <th>Continental</th>\n",
       "      <td>62</td>\n",
       "    </tr>\n",
       "  </tbody>\n",
       "</table>\n",
       "</div>"
      ],
      "text/plain": [
       "                    Count\n",
       "City  Cuisines           \n",
       "Noida North Indian    532\n",
       "      Chinese         384\n",
       "      Fast Food       265\n",
       "      Mughlai         156\n",
       "      Bakery           93\n",
       "      Cafe             69\n",
       "      South Indian     68\n",
       "      Desserts         64\n",
       "      Italian          64\n",
       "      Continental      62"
      ]
     },
     "execution_count": 46,
     "metadata": {},
     "output_type": "execute_result"
    }
   ],
   "source": [
    "noida_count = city_[city_['City'] == 'Noida'].groupby(['City','Cuisines']).agg(Count=('Restaurant ID','count'))\n",
    "noida_count.sort_values(by='Count',ascending=False).head(10)"
   ]
  },
  {
   "cell_type": "markdown",
   "id": "7bd87413",
   "metadata": {},
   "source": [
    "### i. What is the distribution cost across the restaurants?"
   ]
  },
  {
   "cell_type": "code",
   "execution_count": 47,
   "id": "5c26c178",
   "metadata": {},
   "outputs": [
    {
     "data": {
      "text/plain": [
       "(array([7.377e+03, 1.100e+01, 2.000e+00, 1.000e+00, 2.000e+00]),\n",
       " array([     0., 160000., 320000., 480000., 640000., 800000.]),\n",
       " <BarContainer object of 5 artists>)"
      ]
     },
     "execution_count": 47,
     "metadata": {},
     "output_type": "execute_result"
    },
    {
     "data": {
      "image/png": "[encoded data removed]",
      "text/plain": [
       "<Figure size 432x288 with 1 Axes>"
      ]
     },
     "metadata": {
      "needs_background": "light"
     },
     "output_type": "display_data"
    }
   ],
   "source": [
    "plt.hist(df1['Average Cost for two'],bins=5,color='orange')"
   ]
  },
  {
   "cell_type": "markdown",
   "id": "a153aba3",
   "metadata": {},
   "source": [
    "In the above distribution we cannot figure out what's going on because 'Average cost of two' column has price of restuarants of all countries and we know that every currency has different value so, lets make different data variable based on different currencies."
   ]
  },
  {
   "cell_type": "markdown",
   "id": "c751588e",
   "metadata": {},
   "source": [
    "But, before that let's remove the rows of 'Average cost of two' column having cost as 0 because that is not possible and create a dataframe df3."
   ]
  },
  {
   "cell_type": "code",
   "execution_count": 48,
   "id": "45b0996d",
   "metadata": {},
   "outputs": [
    {
     "data": {
      "text/plain": [
       "array(['Indonesian Rupiah(IDR)', 'Indian Rupees(Rs.)', 'Botswana Pula(P)',\n",
       "       'Sri Lankan Rupee(LKR)', 'Rand(R)', 'Qatari Rial(QR)', 'Dollar($)',\n",
       "       'Emirati Diram(AED)', 'Brazilian Real(R$)', 'Turkish Lira(TL)',\n",
       "       'Pounds(å£)', 'NewZealand($)'], dtype=object)"
      ]
     },
     "execution_count": 48,
     "metadata": {},
     "output_type": "execute_result"
    }
   ],
   "source": [
    "df.Currency.unique()"
   ]
  },
  {
   "cell_type": "code",
   "execution_count": 49,
   "id": "4564da30",
   "metadata": {},
   "outputs": [],
   "source": [
    "df3 = df.copy()"
   ]
  },
  {
   "cell_type": "code",
   "execution_count": 50,
   "id": "4220ab5f",
   "metadata": {},
   "outputs": [],
   "source": [
    "df3.drop(df3.loc[df3['Average Cost for two']==0].index, inplace=True)"
   ]
  },
  {
   "cell_type": "code",
   "execution_count": 51,
   "id": "a84390ee",
   "metadata": {},
   "outputs": [
    {
     "data": {
      "text/html": [
       "<div>\n",
       "<style scoped>\n",
       "    .dataframe tbody tr th:only-of-type {\n",
       "        vertical-align: middle;\n",
       "    }\n",
       "\n",
       "    .dataframe tbody tr th {\n",
       "        vertical-align: top;\n",
       "    }\n",
       "\n",
       "    .dataframe thead th {\n",
       "        text-align: right;\n",
       "    }\n",
       "</style>\n",
       "<table border=\"1\" class=\"dataframe\">\n",
       "  <thead>\n",
       "    <tr style=\"text-align: right;\">\n",
       "      <th></th>\n",
       "      <th>Restaurant ID</th>\n",
       "      <th>Restaurant Name</th>\n",
       "      <th>Country Code</th>\n",
       "      <th>City</th>\n",
       "      <th>Address</th>\n",
       "      <th>Locality</th>\n",
       "      <th>Locality Verbose</th>\n",
       "      <th>Longitude</th>\n",
       "      <th>Latitude</th>\n",
       "      <th>Cuisines</th>\n",
       "      <th>...</th>\n",
       "      <th>Currency</th>\n",
       "      <th>Has Table booking</th>\n",
       "      <th>Has Online delivery</th>\n",
       "      <th>Price range</th>\n",
       "      <th>Aggregate rating</th>\n",
       "      <th>Rating color</th>\n",
       "      <th>Rating text</th>\n",
       "      <th>Votes</th>\n",
       "      <th>Country</th>\n",
       "      <th>word_count</th>\n",
       "    </tr>\n",
       "  </thead>\n",
       "  <tbody>\n",
       "    <tr>\n",
       "      <th>0</th>\n",
       "      <td>7402935</td>\n",
       "      <td>Skye</td>\n",
       "      <td>94</td>\n",
       "      <td>Jakarta</td>\n",
       "      <td>Menara BCA, Lantai 56, Jl. MH. Thamrin, Thamri...</td>\n",
       "      <td>Grand Indonesia Mall, Thamrin</td>\n",
       "      <td>Grand Indonesia Mall, Thamrin, Jakarta</td>\n",
       "      <td>106.821999</td>\n",
       "      <td>-6.196778</td>\n",
       "      <td>Italian, Continental</td>\n",
       "      <td>...</td>\n",
       "      <td>Indonesian Rupiah(IDR)</td>\n",
       "      <td>No</td>\n",
       "      <td>No</td>\n",
       "      <td>3</td>\n",
       "      <td>4.1</td>\n",
       "      <td>Green</td>\n",
       "      <td>Very Good</td>\n",
       "      <td>1498</td>\n",
       "      <td>Indonesia</td>\n",
       "      <td>2</td>\n",
       "    </tr>\n",
       "  </tbody>\n",
       "</table>\n",
       "<p>1 rows × 21 columns</p>\n",
       "</div>"
      ],
      "text/plain": [
       "   Restaurant ID Restaurant Name  Country Code     City  \\\n",
       "0        7402935            Skye            94  Jakarta   \n",
       "\n",
       "                                             Address  \\\n",
       "0  Menara BCA, Lantai 56, Jl. MH. Thamrin, Thamri...   \n",
       "\n",
       "                        Locality                        Locality Verbose  \\\n",
       "0  Grand Indonesia Mall, Thamrin  Grand Indonesia Mall, Thamrin, Jakarta   \n",
       "\n",
       "    Longitude  Latitude              Cuisines  ...                Currency  \\\n",
       "0  106.821999 -6.196778  Italian, Continental  ...  Indonesian Rupiah(IDR)   \n",
       "\n",
       "  Has Table booking Has Online delivery Price range  Aggregate rating  \\\n",
       "0                No                  No           3               4.1   \n",
       "\n",
       "   Rating color Rating text Votes    Country word_count  \n",
       "0         Green   Very Good  1498  Indonesia          2  \n",
       "\n",
       "[1 rows x 21 columns]"
      ]
     },
     "execution_count": 51,
     "metadata": {},
     "output_type": "execute_result"
    }
   ],
   "source": [
    "df3.head(1)"
   ]
  },
  {
   "cell_type": "code",
   "execution_count": 52,
   "id": "0be28a83",
   "metadata": {},
   "outputs": [],
   "source": [
    "IDR_data = df3.loc[df3['Currency']=='Indonesian Rupiah(IDR)'] \n",
    "RS_data = df3.loc[df3['Currency']=='Indian Rupees(Rs.)']\n",
    "P_data = df3.loc[df3['Currency']=='Botswana Pula(P)']                       \n",
    "LKR_data = df3.loc[df3['Currency']=='Sri Lankan Rupee(LKR)']   \n",
    "R_data = df3.loc[df3['Currency']=='Rand(R)']   \n",
    "QR_data = df3.loc[df3['Currency']=='Qatari Rial(QR)']   \n",
    "USD_data = df3.loc[df3['Currency']=='Dollar($)']   \n",
    "AED_data = df3.loc[df3['Currency']=='Emirati Diram(AED)']   \n",
    "BR_data = df3.loc[df3['Currency']=='Brazilian Real(R$)']   \n",
    "TL_data = df3.loc[df3['Currency']=='Turkish Lira(TL)']\n",
    "PDS_data = df3.loc[df3['Currency']=='Pounds(å£)']   \n",
    "NZD_data = df3.loc[df3['Currency']=='NewZealand($)']   "
   ]
  },
  {
   "cell_type": "code",
   "execution_count": 53,
   "id": "91989579",
   "metadata": {},
   "outputs": [
    {
     "data": {
      "image/png": "[encoded data removed]",
      "text/plain": [
       "<Figure size 936x504 with 12 Axes>"
      ]
     },
     "metadata": {
      "needs_background": "light"
     },
     "output_type": "display_data"
    }
   ],
   "source": [
    "fig, axes = plt.subplots(nrows = 3, ncols = 4,figsize =(13,7))\n",
    "\n",
    "#Indonesia\n",
    "axes[0,0].set_title('Distribution in Indonesia')\n",
    "axes[0,0].hist(IDR_data['Average Cost for two'],bins='auto')\n",
    "axes[0,0].set_xlabel('Average Cost for two in IDR')\n",
    "\n",
    "#India\n",
    "axes[0,1].set_title('Distribution in India')\n",
    "axes[0,1].hist(RS_data['Average Cost for two'],bins=5)\n",
    "axes[0,1].set_xlabel('Average Cost for two in Rs.')\n",
    "\n",
    "#Phillipines\n",
    "axes[0,2].set_title('Distribution in Botswana')\n",
    "axes[0,2].hist(P_data['Average Cost for two'],bins='auto')\n",
    "axes[0,2].set_xlabel('Average Cost for two in P')\n",
    "\n",
    "#Sri Lanka\n",
    "axes[0,3].set_title('Distribution in Sri Lanka')\n",
    "axes[0,3].hist(LKR_data['Average Cost for two'],bins='auto')\n",
    "axes[0,3].set_xlabel('Average Cost for two in LKR')\n",
    "\n",
    "#South Africa\n",
    "axes[1,0].set_title('Distribution in South Africa')\n",
    "axes[1,0].hist(R_data['Average Cost for two'],bins='auto')\n",
    "axes[1,0].set_xlabel('Average Cost for two in Rand')\n",
    "\n",
    "#Qatar\n",
    "axes[1,1].set_title('Distribution in Qatar')\n",
    "axes[1,1].hist(QR_data['Average Cost for two'],bins='auto')\n",
    "axes[1,1].set_xlabel('Average Cost for two in QR')\n",
    "\n",
    "#USA,Canada,Australia,Singapore\n",
    "axes[1,2].set_title('Distribution in USA,Canada,Singapore & Australia')\n",
    "axes[1,2].hist(USD_data['Average Cost for two'],bins='auto')\n",
    "axes[1,2].set_xlabel('Average Cost for two in $')\n",
    "\n",
    "#UAE\n",
    "axes[1,3].set_title('Distribution in UAE')\n",
    "axes[1,3].hist(AED_data['Average Cost for two'],bins='auto')\n",
    "axes[1,3].set_xlabel('Average Cost for two in AED')\n",
    "\n",
    "#Brazil\n",
    "axes[2,0].set_title('Distribution in Brazil')\n",
    "axes[2,0].hist(BR_data['Average Cost for two'],bins='auto')\n",
    "axes[2,0].set_xlabel('Average Cost for two in Brazilian Real')\n",
    "\n",
    "#Turkey\n",
    "axes[2,1].set_title('Distribution in Turkey')\n",
    "axes[2,1].hist(TL_data['Average Cost for two'],bins='auto')\n",
    "axes[2,1].set_xlabel('Average Cost for two in TL')\n",
    "\n",
    "#United Kingdom\n",
    "axes[2,2].set_title('Distribution in UK')\n",
    "axes[2,2].hist(PDS_data['Average Cost for two'],bins='auto')\n",
    "axes[2,2].set_xlabel('Average Cost for two in Pounds')\n",
    "\n",
    "#New Zealand\n",
    "axes[2,3].set_title('Distribution in New Zealand')\n",
    "axes[2,3].hist(NZD_data['Average Cost for two'],bins='auto')\n",
    "axes[2,3].set_xlabel('Average Cost for two in NZD')\n",
    "\n",
    "plt.tight_layout()\n",
    "plt.show()"
   ]
  },
  {
   "cell_type": "markdown",
   "id": "6e9ff896",
   "metadata": {},
   "source": [
    "Now, above our distrution cost across restuarant is based on different currencies and is easy to read than our previous distribution."
   ]
  },
  {
   "cell_type": "markdown",
   "id": "47162db6",
   "metadata": {},
   "source": [
    "We can conclude from the above distribution is avg. cost of two across every currency is positively skewed that means on average people tend to prefer low cost restaurants."
   ]
  },
  {
   "cell_type": "markdown",
   "id": "185dc8ee",
   "metadata": {},
   "source": [
    "### i. Explain the factors in the data that may have an effect on ratings. For example, number of cuisines, cost, delivery option, etc."
   ]
  },
  {
   "cell_type": "code",
   "execution_count": 54,
   "id": "e1c03050",
   "metadata": {},
   "outputs": [
    {
     "data": {
      "text/html": [
       "<div>\n",
       "<style scoped>\n",
       "    .dataframe tbody tr th:only-of-type {\n",
       "        vertical-align: middle;\n",
       "    }\n",
       "\n",
       "    .dataframe tbody tr th {\n",
       "        vertical-align: top;\n",
       "    }\n",
       "\n",
       "    .dataframe thead th {\n",
       "        text-align: right;\n",
       "    }\n",
       "</style>\n",
       "<table border=\"1\" class=\"dataframe\">\n",
       "  <thead>\n",
       "    <tr style=\"text-align: right;\">\n",
       "      <th></th>\n",
       "      <th>Aggregate rating</th>\n",
       "      <th>Average Cost for two</th>\n",
       "    </tr>\n",
       "  </thead>\n",
       "  <tbody>\n",
       "    <tr>\n",
       "      <th>Aggregate rating</th>\n",
       "      <td>1.000000</td>\n",
       "      <td>0.076932</td>\n",
       "    </tr>\n",
       "    <tr>\n",
       "      <th>Average Cost for two</th>\n",
       "      <td>0.076932</td>\n",
       "      <td>1.000000</td>\n",
       "    </tr>\n",
       "  </tbody>\n",
       "</table>\n",
       "</div>"
      ],
      "text/plain": [
       "                      Aggregate rating  Average Cost for two\n",
       "Aggregate rating              1.000000              0.076932\n",
       "Average Cost for two          0.076932              1.000000"
      ]
     },
     "execution_count": 54,
     "metadata": {},
     "output_type": "execute_result"
    },
    {
     "data": {
      "image/png": "[encoded data removed]",
      "text/plain": [
       "<Figure size 432x288 with 1 Axes>"
      ]
     },
     "metadata": {
      "needs_background": "light"
     },
     "output_type": "display_data"
    }
   ],
   "source": [
    "sns.regplot(x='Aggregate rating',y='Average Cost for two',data=df1)\n",
    "df1[['Aggregate rating','Average Cost for two']].corr()"
   ]
  },
  {
   "cell_type": "markdown",
   "id": "2df89f71",
   "metadata": {},
   "source": [
    "We can see that 'Average rating' and 'Average cost of two' has no correlation.\n",
    "Average cost of two  cannot be a determining factor."
   ]
  },
  {
   "cell_type": "code",
   "execution_count": 55,
   "id": "c3e0860c",
   "metadata": {},
   "outputs": [
    {
     "data": {
      "text/html": [
       "<div>\n",
       "<style scoped>\n",
       "    .dataframe tbody tr th:only-of-type {\n",
       "        vertical-align: middle;\n",
       "    }\n",
       "\n",
       "    .dataframe tbody tr th {\n",
       "        vertical-align: top;\n",
       "    }\n",
       "\n",
       "    .dataframe thead th {\n",
       "        text-align: right;\n",
       "    }\n",
       "</style>\n",
       "<table border=\"1\" class=\"dataframe\">\n",
       "  <thead>\n",
       "    <tr style=\"text-align: right;\">\n",
       "      <th></th>\n",
       "      <th>Aggregate rating</th>\n",
       "      <th>Votes</th>\n",
       "    </tr>\n",
       "  </thead>\n",
       "  <tbody>\n",
       "    <tr>\n",
       "      <th>Aggregate rating</th>\n",
       "      <td>1.000000</td>\n",
       "      <td>0.408553</td>\n",
       "    </tr>\n",
       "    <tr>\n",
       "      <th>Votes</th>\n",
       "      <td>0.408553</td>\n",
       "      <td>1.000000</td>\n",
       "    </tr>\n",
       "  </tbody>\n",
       "</table>\n",
       "</div>"
      ],
      "text/plain": [
       "                  Aggregate rating     Votes\n",
       "Aggregate rating          1.000000  0.408553\n",
       "Votes                     0.408553  1.000000"
      ]
     },
     "execution_count": 55,
     "metadata": {},
     "output_type": "execute_result"
    },
    {
     "data": {
      "image/png": "[encoded data removed]",
      "text/plain": [
       "<Figure size 432x288 with 1 Axes>"
      ]
     },
     "metadata": {
      "needs_background": "light"
     },
     "output_type": "display_data"
    }
   ],
   "source": [
    "sns.regplot(x='Aggregate rating',y='Votes',data=df1)\n",
    "df1[['Aggregate rating','Votes']].corr()"
   ]
  },
  {
   "cell_type": "markdown",
   "id": "55324d56",
   "metadata": {},
   "source": [
    "We can see that 'Average rating' and 'Votes' has a positive correlation.\n",
    "'Votes' can be a determining factor."
   ]
  },
  {
   "cell_type": "code",
   "execution_count": 56,
   "id": "3376aacb",
   "metadata": {},
   "outputs": [
    {
     "data": {
      "text/html": [
       "<div>\n",
       "<style scoped>\n",
       "    .dataframe tbody tr th:only-of-type {\n",
       "        vertical-align: middle;\n",
       "    }\n",
       "\n",
       "    .dataframe tbody tr th {\n",
       "        vertical-align: top;\n",
       "    }\n",
       "\n",
       "    .dataframe thead th {\n",
       "        text-align: right;\n",
       "    }\n",
       "</style>\n",
       "<table border=\"1\" class=\"dataframe\">\n",
       "  <thead>\n",
       "    <tr style=\"text-align: right;\">\n",
       "      <th></th>\n",
       "      <th>Aggregate rating</th>\n",
       "      <th>Price range</th>\n",
       "    </tr>\n",
       "  </thead>\n",
       "  <tbody>\n",
       "    <tr>\n",
       "      <th>Aggregate rating</th>\n",
       "      <td>1.000000</td>\n",
       "      <td>0.403678</td>\n",
       "    </tr>\n",
       "    <tr>\n",
       "      <th>Price range</th>\n",
       "      <td>0.403678</td>\n",
       "      <td>1.000000</td>\n",
       "    </tr>\n",
       "  </tbody>\n",
       "</table>\n",
       "</div>"
      ],
      "text/plain": [
       "                  Aggregate rating  Price range\n",
       "Aggregate rating          1.000000     0.403678\n",
       "Price range               0.403678     1.000000"
      ]
     },
     "execution_count": 56,
     "metadata": {},
     "output_type": "execute_result"
    },
    {
     "data": {
      "image/png": "[encoded data removed]",
      "text/plain": [
       "<Figure size 432x288 with 1 Axes>"
      ]
     },
     "metadata": {
      "needs_background": "light"
     },
     "output_type": "display_data"
    }
   ],
   "source": [
    "sns.regplot(x='Aggregate rating',y='Price range',data=df1)\n",
    "df1[['Aggregate rating','Price range']].corr()"
   ]
  },
  {
   "cell_type": "markdown",
   "id": "e801b51c",
   "metadata": {},
   "source": [
    "We can see that 'Average rating' and 'Price range' has a posiitive correlation.\n",
    "'Price range' can be a determining factor."
   ]
  },
  {
   "cell_type": "markdown",
   "id": "2f8b399b",
   "metadata": {},
   "source": [
    "## Dashboarding:\n",
    "### To view the dashboard regarding this project please visit my Tableau gallery in the given link below.\n",
    "#### Thank You.\n",
    "https://public.tableau.com/app/profile/diptangshu.bhowmik/viz/CapstoneRestaurant/Dashboard"
   ]
  }
 ],
 "metadata": {
  "kernelspec": {
   "display_name": "Python 3",
   "language": "python",
   "name": "python3"
  },
  "language_info": {
   "codemirror_mode": {
    "name": "ipython",
    "version": 3
   },
   "file_extension": ".py",
   "mimetype": "text/x-python",
   "name": "python",
   "nbconvert_exporter": "python",
   "pygments_lexer": "ipython3",
   "version": "3.8.8"
  }
 },
 "nbformat": 4,
 "nbformat_minor": 5
}
